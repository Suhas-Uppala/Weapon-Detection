{
 "cells": [
  {
   "cell_type": "code",
   "execution_count": 2,
   "metadata": {
    "_cell_guid": "b1076dfc-b9ad-4769-8c92-a6c4dae69d19",
    "_uuid": "8f2839f25d086af736a60e9eeb907d3b93b6e0e5",
    "execution": {
     "iopub.execute_input": "2025-02-07T06:07:54.094400Z",
     "iopub.status.busy": "2025-02-07T06:07:54.093970Z",
     "iopub.status.idle": "2025-02-07T06:07:58.199968Z",
     "shell.execute_reply": "2025-02-07T06:07:58.198805Z",
     "shell.execute_reply.started": "2025-02-07T06:07:54.094352Z"
    },
    "trusted": true
   },
   "outputs": [
    {
     "name": "stdout",
     "output_type": "stream",
     "text": [
      "Defaulting to user installation because normal site-packages is not writeable\n",
      "Collecting ultralytics\n",
      "  Using cached ultralytics-8.3.72-py3-none-any.whl.metadata (35 kB)\n",
      "Requirement already satisfied: numpy<=2.1.1,>=1.23.0 in c:\\users\\srija\\appdata\\local\\packages\\pythonsoftwarefoundation.python.3.12_qbz5n2kfra8p0\\localcache\\local-packages\\python312\\site-packages (from ultralytics) (1.26.4)\n",
      "Collecting matplotlib>=3.3.0 (from ultralytics)\n",
      "  Using cached matplotlib-3.10.0-cp312-cp312-win_amd64.whl.metadata (11 kB)\n",
      "Requirement already satisfied: opencv-python>=4.6.0 in c:\\users\\srija\\appdata\\local\\packages\\pythonsoftwarefoundation.python.3.12_qbz5n2kfra8p0\\localcache\\local-packages\\python312\\site-packages (from ultralytics) (4.10.0.84)\n",
      "Requirement already satisfied: pillow>=7.1.2 in c:\\users\\srija\\appdata\\local\\packages\\pythonsoftwarefoundation.python.3.12_qbz5n2kfra8p0\\localcache\\local-packages\\python312\\site-packages (from ultralytics) (10.3.0)\n",
      "Requirement already satisfied: pyyaml>=5.3.1 in c:\\users\\srija\\appdata\\local\\packages\\pythonsoftwarefoundation.python.3.12_qbz5n2kfra8p0\\localcache\\local-packages\\python312\\site-packages (from ultralytics) (6.0.1)\n",
      "Requirement already satisfied: requests>=2.23.0 in c:\\users\\srija\\appdata\\local\\packages\\pythonsoftwarefoundation.python.3.12_qbz5n2kfra8p0\\localcache\\local-packages\\python312\\site-packages (from ultralytics) (2.32.3)\n",
      "Requirement already satisfied: scipy>=1.4.1 in c:\\users\\srija\\appdata\\local\\packages\\pythonsoftwarefoundation.python.3.12_qbz5n2kfra8p0\\localcache\\local-packages\\python312\\site-packages (from ultralytics) (1.11.4)\n",
      "Collecting torch>=1.8.0 (from ultralytics)\n",
      "  Using cached torch-2.6.0-cp312-cp312-win_amd64.whl.metadata (28 kB)\n",
      "Collecting torchvision>=0.9.0 (from ultralytics)\n",
      "  Using cached torchvision-0.21.0-cp312-cp312-win_amd64.whl.metadata (6.3 kB)\n",
      "Requirement already satisfied: tqdm>=4.64.0 in c:\\users\\srija\\appdata\\local\\packages\\pythonsoftwarefoundation.python.3.12_qbz5n2kfra8p0\\localcache\\local-packages\\python312\\site-packages (from ultralytics) (4.66.5)\n",
      "Requirement already satisfied: psutil in c:\\users\\srija\\appdata\\local\\packages\\pythonsoftwarefoundation.python.3.12_qbz5n2kfra8p0\\localcache\\local-packages\\python312\\site-packages (from ultralytics) (6.0.0)\n",
      "Collecting py-cpuinfo (from ultralytics)\n",
      "  Using cached py_cpuinfo-9.0.0-py3-none-any.whl.metadata (794 bytes)\n",
      "Requirement already satisfied: pandas>=1.1.4 in c:\\users\\srija\\appdata\\local\\packages\\pythonsoftwarefoundation.python.3.12_qbz5n2kfra8p0\\localcache\\local-packages\\python312\\site-packages (from ultralytics) (2.1.4)\n",
      "Requirement already satisfied: seaborn>=0.11.0 in c:\\users\\srija\\appdata\\local\\packages\\pythonsoftwarefoundation.python.3.12_qbz5n2kfra8p0\\localcache\\local-packages\\python312\\site-packages (from ultralytics) (0.13.2)\n",
      "Collecting ultralytics-thop>=2.0.0 (from ultralytics)\n",
      "  Using cached ultralytics_thop-2.0.14-py3-none-any.whl.metadata (9.4 kB)\n",
      "Requirement already satisfied: contourpy>=1.0.1 in c:\\users\\srija\\appdata\\local\\packages\\pythonsoftwarefoundation.python.3.12_qbz5n2kfra8p0\\localcache\\local-packages\\python312\\site-packages (from matplotlib>=3.3.0->ultralytics) (1.2.1)\n",
      "Requirement already satisfied: cycler>=0.10 in c:\\users\\srija\\appdata\\local\\packages\\pythonsoftwarefoundation.python.3.12_qbz5n2kfra8p0\\localcache\\local-packages\\python312\\site-packages (from matplotlib>=3.3.0->ultralytics) (0.12.1)\n",
      "Requirement already satisfied: fonttools>=4.22.0 in c:\\users\\srija\\appdata\\local\\packages\\pythonsoftwarefoundation.python.3.12_qbz5n2kfra8p0\\localcache\\local-packages\\python312\\site-packages (from matplotlib>=3.3.0->ultralytics) (4.51.0)\n",
      "Requirement already satisfied: kiwisolver>=1.3.1 in c:\\users\\srija\\appdata\\local\\packages\\pythonsoftwarefoundation.python.3.12_qbz5n2kfra8p0\\localcache\\local-packages\\python312\\site-packages (from matplotlib>=3.3.0->ultralytics) (1.4.5)\n",
      "Requirement already satisfied: packaging>=20.0 in c:\\users\\srija\\appdata\\local\\packages\\pythonsoftwarefoundation.python.3.12_qbz5n2kfra8p0\\localcache\\local-packages\\python312\\site-packages (from matplotlib>=3.3.0->ultralytics) (24.0)\n",
      "Requirement already satisfied: pyparsing>=2.3.1 in c:\\users\\srija\\appdata\\local\\packages\\pythonsoftwarefoundation.python.3.12_qbz5n2kfra8p0\\localcache\\local-packages\\python312\\site-packages (from matplotlib>=3.3.0->ultralytics) (3.1.2)\n",
      "Requirement already satisfied: python-dateutil>=2.7 in c:\\users\\srija\\appdata\\local\\packages\\pythonsoftwarefoundation.python.3.12_qbz5n2kfra8p0\\localcache\\local-packages\\python312\\site-packages (from matplotlib>=3.3.0->ultralytics) (2.9.0.post0)\n",
      "Requirement already satisfied: pytz>=2020.1 in c:\\users\\srija\\appdata\\local\\packages\\pythonsoftwarefoundation.python.3.12_qbz5n2kfra8p0\\localcache\\local-packages\\python312\\site-packages (from pandas>=1.1.4->ultralytics) (2024.1)\n",
      "Requirement already satisfied: tzdata>=2022.1 in c:\\users\\srija\\appdata\\local\\packages\\pythonsoftwarefoundation.python.3.12_qbz5n2kfra8p0\\localcache\\local-packages\\python312\\site-packages (from pandas>=1.1.4->ultralytics) (2024.1)\n",
      "Requirement already satisfied: charset-normalizer<4,>=2 in c:\\users\\srija\\appdata\\local\\packages\\pythonsoftwarefoundation.python.3.12_qbz5n2kfra8p0\\localcache\\local-packages\\python312\\site-packages (from requests>=2.23.0->ultralytics) (3.3.2)\n",
      "Requirement already satisfied: idna<4,>=2.5 in c:\\users\\srija\\appdata\\local\\packages\\pythonsoftwarefoundation.python.3.12_qbz5n2kfra8p0\\localcache\\local-packages\\python312\\site-packages (from requests>=2.23.0->ultralytics) (3.7)\n",
      "Requirement already satisfied: urllib3<3,>=1.21.1 in c:\\users\\srija\\appdata\\local\\packages\\pythonsoftwarefoundation.python.3.12_qbz5n2kfra8p0\\localcache\\local-packages\\python312\\site-packages (from requests>=2.23.0->ultralytics) (2.2.2)\n",
      "Requirement already satisfied: certifi>=2017.4.17 in c:\\users\\srija\\appdata\\local\\packages\\pythonsoftwarefoundation.python.3.12_qbz5n2kfra8p0\\localcache\\local-packages\\python312\\site-packages (from requests>=2.23.0->ultralytics) (2024.6.2)\n",
      "Collecting filelock (from torch>=1.8.0->ultralytics)\n",
      "  Using cached filelock-3.17.0-py3-none-any.whl.metadata (2.9 kB)\n",
      "Requirement already satisfied: typing-extensions>=4.10.0 in c:\\users\\srija\\appdata\\local\\packages\\pythonsoftwarefoundation.python.3.12_qbz5n2kfra8p0\\localcache\\local-packages\\python312\\site-packages (from torch>=1.8.0->ultralytics) (4.11.0)\n",
      "Collecting networkx (from torch>=1.8.0->ultralytics)\n",
      "  Using cached networkx-3.4.2-py3-none-any.whl.metadata (6.3 kB)\n",
      "Requirement already satisfied: jinja2 in c:\\users\\srija\\appdata\\local\\packages\\pythonsoftwarefoundation.python.3.12_qbz5n2kfra8p0\\localcache\\local-packages\\python312\\site-packages (from torch>=1.8.0->ultralytics) (3.1.4)\n",
      "Collecting fsspec (from torch>=1.8.0->ultralytics)\n",
      "  Using cached fsspec-2025.2.0-py3-none-any.whl.metadata (11 kB)\n",
      "Requirement already satisfied: setuptools in c:\\users\\srija\\appdata\\local\\packages\\pythonsoftwarefoundation.python.3.12_qbz5n2kfra8p0\\localcache\\local-packages\\python312\\site-packages (from torch>=1.8.0->ultralytics) (69.5.1)\n",
      "Collecting sympy==1.13.1 (from torch>=1.8.0->ultralytics)\n",
      "  Using cached sympy-1.13.1-py3-none-any.whl.metadata (12 kB)\n",
      "Collecting mpmath<1.4,>=1.1.0 (from sympy==1.13.1->torch>=1.8.0->ultralytics)\n",
      "  Using cached mpmath-1.3.0-py3-none-any.whl.metadata (8.6 kB)\n",
      "Requirement already satisfied: colorama in c:\\users\\srija\\appdata\\local\\packages\\pythonsoftwarefoundation.python.3.12_qbz5n2kfra8p0\\localcache\\local-packages\\python312\\site-packages (from tqdm>=4.64.0->ultralytics) (0.4.6)\n",
      "Requirement already satisfied: six>=1.5 in c:\\users\\srija\\appdata\\local\\packages\\pythonsoftwarefoundation.python.3.12_qbz5n2kfra8p0\\localcache\\local-packages\\python312\\site-packages (from python-dateutil>=2.7->matplotlib>=3.3.0->ultralytics) (1.16.0)\n",
      "Requirement already satisfied: MarkupSafe>=2.0 in c:\\users\\srija\\appdata\\local\\packages\\pythonsoftwarefoundation.python.3.12_qbz5n2kfra8p0\\localcache\\local-packages\\python312\\site-packages (from jinja2->torch>=1.8.0->ultralytics) (2.1.5)\n",
      "Using cached ultralytics-8.3.72-py3-none-any.whl (914 kB)\n",
      "Using cached matplotlib-3.10.0-cp312-cp312-win_amd64.whl (8.0 MB)\n",
      "Downloading torch-2.6.0-cp312-cp312-win_amd64.whl (204.1 MB)\n",
      "   ---------------------------------------- 0.0/204.1 MB ? eta -:--:--\n",
      "   ---------------------------------------- 0.8/204.1 MB 6.7 MB/s eta 0:00:31\n",
      "   ---------------------------------------- 2.4/204.1 MB 7.1 MB/s eta 0:00:29\n",
      "    --------------------------------------- 3.9/204.1 MB 7.6 MB/s eta 0:00:27\n",
      "    --------------------------------------- 5.0/204.1 MB 7.4 MB/s eta 0:00:28\n",
      "   - -------------------------------------- 6.0/204.1 MB 7.0 MB/s eta 0:00:29\n",
      "   - -------------------------------------- 7.1/204.1 MB 6.5 MB/s eta 0:00:31\n",
      "   - -------------------------------------- 7.9/204.1 MB 6.2 MB/s eta 0:00:32\n",
      "   - -------------------------------------- 9.2/204.1 MB 5.9 MB/s eta 0:00:34\n",
      "   -- ------------------------------------- 10.2/204.1 MB 5.8 MB/s eta 0:00:34\n",
      "   -- ------------------------------------- 11.0/204.1 MB 5.8 MB/s eta 0:00:34\n",
      "   -- ------------------------------------- 12.1/204.1 MB 5.5 MB/s eta 0:00:36\n",
      "   -- ------------------------------------- 13.4/204.1 MB 5.5 MB/s eta 0:00:35\n",
      "   -- ------------------------------------- 14.7/204.1 MB 5.6 MB/s eta 0:00:34\n",
      "   --- ------------------------------------ 15.5/204.1 MB 5.5 MB/s eta 0:00:35\n",
      "   --- ------------------------------------ 15.7/204.1 MB 5.3 MB/s eta 0:00:36\n",
      "   --- ------------------------------------ 16.5/204.1 MB 5.1 MB/s eta 0:00:37\n",
      "   --- ------------------------------------ 17.0/204.1 MB 5.0 MB/s eta 0:00:38\n",
      "   --- ------------------------------------ 17.6/204.1 MB 4.8 MB/s eta 0:00:39\n",
      "   --- ------------------------------------ 18.4/204.1 MB 4.8 MB/s eta 0:00:39\n",
      "   --- ------------------------------------ 19.1/204.1 MB 4.8 MB/s eta 0:00:39\n",
      "   ---- ----------------------------------- 20.4/204.1 MB 4.7 MB/s eta 0:00:39\n",
      "   ---- ----------------------------------- 21.5/204.1 MB 4.8 MB/s eta 0:00:39\n",
      "   ---- ----------------------------------- 22.8/204.1 MB 4.9 MB/s eta 0:00:38\n",
      "   ---- ----------------------------------- 23.9/204.1 MB 4.8 MB/s eta 0:00:38\n",
      "   ---- ----------------------------------- 24.6/204.1 MB 4.9 MB/s eta 0:00:37\n",
      "   ----- ---------------------------------- 26.0/204.1 MB 4.9 MB/s eta 0:00:37\n",
      "   ----- ---------------------------------- 27.0/204.1 MB 4.9 MB/s eta 0:00:37\n",
      "   ----- ---------------------------------- 28.0/204.1 MB 4.9 MB/s eta 0:00:36\n",
      "   ----- ---------------------------------- 29.1/204.1 MB 4.9 MB/s eta 0:00:36\n",
      "   ------ --------------------------------- 30.7/204.1 MB 5.0 MB/s eta 0:00:35\n",
      "   ------ --------------------------------- 31.7/204.1 MB 5.0 MB/s eta 0:00:35\n",
      "   ------ --------------------------------- 33.0/204.1 MB 5.0 MB/s eta 0:00:35\n",
      "   ------ --------------------------------- 33.8/204.1 MB 5.0 MB/s eta 0:00:35\n",
      "   ------ --------------------------------- 34.9/204.1 MB 5.0 MB/s eta 0:00:34\n",
      "   ------- -------------------------------- 36.2/204.1 MB 5.0 MB/s eta 0:00:34\n",
      "   ------- -------------------------------- 37.2/204.1 MB 5.0 MB/s eta 0:00:34\n",
      "   ------- -------------------------------- 38.5/204.1 MB 5.1 MB/s eta 0:00:33\n",
      "   ------- -------------------------------- 39.6/204.1 MB 5.1 MB/s eta 0:00:33\n",
      "   -------- ------------------------------- 40.9/204.1 MB 5.1 MB/s eta 0:00:33\n",
      "   -------- ------------------------------- 42.2/204.1 MB 5.1 MB/s eta 0:00:32\n",
      "   -------- ------------------------------- 43.0/204.1 MB 5.1 MB/s eta 0:00:32\n",
      "   -------- ------------------------------- 44.3/204.1 MB 5.1 MB/s eta 0:00:32\n",
      "   -------- ------------------------------- 45.1/204.1 MB 5.1 MB/s eta 0:00:32\n",
      "   --------- ------------------------------ 46.7/204.1 MB 5.1 MB/s eta 0:00:31\n",
      "   --------- ------------------------------ 47.7/204.1 MB 5.1 MB/s eta 0:00:31\n",
      "   --------- ------------------------------ 49.0/204.1 MB 5.2 MB/s eta 0:00:30\n",
      "   --------- ------------------------------ 50.3/204.1 MB 5.2 MB/s eta 0:00:30\n",
      "   ---------- ----------------------------- 51.1/204.1 MB 5.2 MB/s eta 0:00:30\n",
      "   ---------- ----------------------------- 52.2/204.1 MB 5.2 MB/s eta 0:00:30\n",
      "   ---------- ----------------------------- 53.0/204.1 MB 5.2 MB/s eta 0:00:30\n",
      "   ---------- ----------------------------- 54.0/204.1 MB 5.1 MB/s eta 0:00:30\n",
      "   ---------- ----------------------------- 54.8/204.1 MB 5.1 MB/s eta 0:00:30\n",
      "   ---------- ----------------------------- 55.6/204.1 MB 5.1 MB/s eta 0:00:30\n",
      "   ----------- ---------------------------- 56.4/204.1 MB 5.1 MB/s eta 0:00:30\n",
      "   ----------- ---------------------------- 57.7/204.1 MB 5.1 MB/s eta 0:00:29\n",
      "   ----------- ---------------------------- 58.5/204.1 MB 5.1 MB/s eta 0:00:29\n",
      "   ----------- ---------------------------- 59.5/204.1 MB 5.1 MB/s eta 0:00:29\n",
      "   ----------- ---------------------------- 60.3/204.1 MB 5.1 MB/s eta 0:00:29\n",
      "   ----------- ---------------------------- 60.8/204.1 MB 5.0 MB/s eta 0:00:29\n",
      "   ------------ --------------------------- 61.6/204.1 MB 5.0 MB/s eta 0:00:29\n",
      "   ------------ --------------------------- 62.1/204.1 MB 4.9 MB/s eta 0:00:29\n",
      "   ------------ --------------------------- 62.4/204.1 MB 4.9 MB/s eta 0:00:29\n",
      "   ------------ --------------------------- 62.9/204.1 MB 4.9 MB/s eta 0:00:30\n",
      "   ------------ --------------------------- 63.7/204.1 MB 4.8 MB/s eta 0:00:30\n",
      "   ------------ --------------------------- 64.0/204.1 MB 4.8 MB/s eta 0:00:30\n",
      "   ------------ --------------------------- 64.5/204.1 MB 4.7 MB/s eta 0:00:30\n",
      "   ------------ --------------------------- 65.0/204.1 MB 4.7 MB/s eta 0:00:30\n",
      "   ------------ --------------------------- 65.8/204.1 MB 4.7 MB/s eta 0:00:30\n",
      "   ------------- -------------------------- 66.6/204.1 MB 4.7 MB/s eta 0:00:30\n",
      "   ------------- -------------------------- 67.4/204.1 MB 4.7 MB/s eta 0:00:30\n",
      "   ------------- -------------------------- 67.6/204.1 MB 4.6 MB/s eta 0:00:30\n",
      "   ------------- -------------------------- 68.4/204.1 MB 4.6 MB/s eta 0:00:30\n",
      "   ------------- -------------------------- 68.9/204.1 MB 4.6 MB/s eta 0:00:30\n",
      "   ------------- -------------------------- 69.7/204.1 MB 4.6 MB/s eta 0:00:30\n",
      "   ------------- -------------------------- 70.3/204.1 MB 4.5 MB/s eta 0:00:30\n",
      "   ------------- -------------------------- 71.3/204.1 MB 4.5 MB/s eta 0:00:30\n",
      "   -------------- ------------------------- 72.1/204.1 MB 4.5 MB/s eta 0:00:30\n",
      "   -------------- ------------------------- 72.9/204.1 MB 4.5 MB/s eta 0:00:30\n",
      "   -------------- ------------------------- 73.7/204.1 MB 4.5 MB/s eta 0:00:30\n",
      "   -------------- ------------------------- 74.4/204.1 MB 4.5 MB/s eta 0:00:29\n",
      "   -------------- ------------------------- 75.2/204.1 MB 4.5 MB/s eta 0:00:29\n",
      "   -------------- ------------------------- 76.0/204.1 MB 4.5 MB/s eta 0:00:29\n",
      "   --------------- ------------------------ 76.8/204.1 MB 4.5 MB/s eta 0:00:29\n",
      "   --------------- ------------------------ 77.9/204.1 MB 4.5 MB/s eta 0:00:29\n",
      "   --------------- ------------------------ 78.6/204.1 MB 4.5 MB/s eta 0:00:29\n",
      "   --------------- ------------------------ 78.9/204.1 MB 4.5 MB/s eta 0:00:29\n",
      "   --------------- ------------------------ 78.9/204.1 MB 4.5 MB/s eta 0:00:29\n",
      "   --------------- ------------------------ 78.9/204.1 MB 4.5 MB/s eta 0:00:29\n",
      "   --------------- ------------------------ 78.9/204.1 MB 4.5 MB/s eta 0:00:29\n",
      "   --------------- ------------------------ 78.9/204.1 MB 4.5 MB/s eta 0:00:29\n",
      "   --------------- ------------------------ 78.9/204.1 MB 4.5 MB/s eta 0:00:29\n",
      "   --------------- ------------------------ 79.2/204.1 MB 4.2 MB/s eta 0:00:30\n",
      "   --------------- ------------------------ 79.2/204.1 MB 4.2 MB/s eta 0:00:30\n",
      "   --------------- ------------------------ 79.4/204.1 MB 4.1 MB/s eta 0:00:31\n",
      "   --------------- ------------------------ 79.7/204.1 MB 4.1 MB/s eta 0:00:31\n",
      "   --------------- ------------------------ 80.0/204.1 MB 4.0 MB/s eta 0:00:31\n",
      "   --------------- ------------------------ 80.5/204.1 MB 4.0 MB/s eta 0:00:31\n",
      "   --------------- ------------------------ 80.7/204.1 MB 4.0 MB/s eta 0:00:32\n",
      "   --------------- ------------------------ 81.0/204.1 MB 4.0 MB/s eta 0:00:32\n",
      "   --------------- ------------------------ 81.3/204.1 MB 3.9 MB/s eta 0:00:32\n",
      "   ---------------- ----------------------- 81.8/204.1 MB 3.9 MB/s eta 0:00:32\n",
      "   ---------------- ----------------------- 82.3/204.1 MB 3.9 MB/s eta 0:00:32\n",
      "   ---------------- ----------------------- 82.8/204.1 MB 3.9 MB/s eta 0:00:32\n",
      "   ---------------- ----------------------- 83.1/204.1 MB 3.9 MB/s eta 0:00:32\n",
      "   ---------------- ----------------------- 83.6/204.1 MB 3.8 MB/s eta 0:00:32\n",
      "   ---------------- ----------------------- 83.9/204.1 MB 3.8 MB/s eta 0:00:32\n",
      "   ---------------- ----------------------- 84.4/204.1 MB 3.8 MB/s eta 0:00:32\n",
      "   ---------------- ----------------------- 84.7/204.1 MB 3.8 MB/s eta 0:00:32\n",
      "   ---------------- ----------------------- 84.9/204.1 MB 3.8 MB/s eta 0:00:32\n",
      "   ---------------- ----------------------- 85.5/204.1 MB 3.7 MB/s eta 0:00:32\n",
      "   ---------------- ----------------------- 85.7/204.1 MB 3.7 MB/s eta 0:00:32\n",
      "   ---------------- ----------------------- 86.0/204.1 MB 3.7 MB/s eta 0:00:32\n",
      "   ---------------- ----------------------- 86.5/204.1 MB 3.7 MB/s eta 0:00:32\n",
      "   ----------------- ---------------------- 86.8/204.1 MB 3.7 MB/s eta 0:00:32\n",
      "   ----------------- ---------------------- 86.8/204.1 MB 3.7 MB/s eta 0:00:32\n",
      "   ----------------- ---------------------- 86.8/204.1 MB 3.7 MB/s eta 0:00:32\n",
      "   ----------------- ---------------------- 87.0/204.1 MB 3.6 MB/s eta 0:00:33\n",
      "   ----------------- ---------------------- 87.3/204.1 MB 3.6 MB/s eta 0:00:33\n",
      "   ----------------- ---------------------- 87.8/204.1 MB 3.6 MB/s eta 0:00:33\n",
      "   ----------------- ---------------------- 88.1/204.1 MB 3.6 MB/s eta 0:00:33\n",
      "   ----------------- ---------------------- 88.6/204.1 MB 3.5 MB/s eta 0:00:33\n",
      "   ----------------- ---------------------- 88.9/204.1 MB 3.5 MB/s eta 0:00:33\n",
      "   ----------------- ---------------------- 89.1/204.1 MB 3.5 MB/s eta 0:00:33\n",
      "   ----------------- ---------------------- 89.7/204.1 MB 3.5 MB/s eta 0:00:33\n",
      "   ----------------- ---------------------- 90.2/204.1 MB 3.5 MB/s eta 0:00:33\n",
      "   ----------------- ---------------------- 90.7/204.1 MB 3.5 MB/s eta 0:00:33\n",
      "   ----------------- ---------------------- 91.0/204.1 MB 3.5 MB/s eta 0:00:33\n",
      "   ----------------- ---------------------- 91.2/204.1 MB 3.4 MB/s eta 0:00:33\n",
      "   ----------------- ---------------------- 91.8/204.1 MB 3.4 MB/s eta 0:00:33\n",
      "   ------------------ --------------------- 92.3/204.1 MB 3.4 MB/s eta 0:00:33\n",
      "   ------------------ --------------------- 92.8/204.1 MB 3.4 MB/s eta 0:00:33\n",
      "   ------------------ --------------------- 93.1/204.1 MB 3.4 MB/s eta 0:00:33\n",
      "   ------------------ --------------------- 93.6/204.1 MB 3.4 MB/s eta 0:00:33\n",
      "   ------------------ --------------------- 94.1/204.1 MB 3.4 MB/s eta 0:00:33\n",
      "   ------------------ --------------------- 94.6/204.1 MB 3.4 MB/s eta 0:00:33\n",
      "   ------------------ --------------------- 95.4/204.1 MB 3.4 MB/s eta 0:00:33\n",
      "   ------------------ --------------------- 95.9/204.1 MB 3.4 MB/s eta 0:00:33\n",
      "   ------------------ --------------------- 96.5/204.1 MB 3.4 MB/s eta 0:00:32\n",
      "   ------------------- -------------------- 97.0/204.1 MB 3.4 MB/s eta 0:00:32\n",
      "   ------------------- -------------------- 97.5/204.1 MB 3.4 MB/s eta 0:00:32\n",
      "   ------------------- -------------------- 98.0/204.1 MB 3.4 MB/s eta 0:00:32\n",
      "   ------------------- -------------------- 98.6/204.1 MB 3.4 MB/s eta 0:00:32\n",
      "   ------------------- -------------------- 99.1/204.1 MB 3.3 MB/s eta 0:00:32\n",
      "   ------------------- -------------------- 99.4/204.1 MB 3.3 MB/s eta 0:00:32\n",
      "   ------------------- -------------------- 100.1/204.1 MB 3.3 MB/s eta 0:00:32\n",
      "   ------------------- -------------------- 100.7/204.1 MB 3.3 MB/s eta 0:00:32\n",
      "   ------------------- -------------------- 101.4/204.1 MB 3.2 MB/s eta 0:00:32\n",
      "   ------------------- -------------------- 102.0/204.1 MB 3.2 MB/s eta 0:00:32\n",
      "   -------------------- ------------------- 102.5/204.1 MB 3.2 MB/s eta 0:00:32\n",
      "   -------------------- ------------------- 103.3/204.1 MB 3.2 MB/s eta 0:00:32\n",
      "   -------------------- ------------------- 103.8/204.1 MB 3.2 MB/s eta 0:00:32\n",
      "   -------------------- ------------------- 104.6/204.1 MB 3.2 MB/s eta 0:00:32\n",
      "   -------------------- ------------------- 104.9/204.1 MB 3.2 MB/s eta 0:00:32\n",
      "   -------------------- ------------------- 105.6/204.1 MB 3.2 MB/s eta 0:00:32\n",
      "   -------------------- ------------------- 106.4/204.1 MB 3.1 MB/s eta 0:00:32\n",
      "   -------------------- ------------------- 107.0/204.1 MB 3.1 MB/s eta 0:00:32\n",
      "   --------------------- ------------------ 107.5/204.1 MB 3.1 MB/s eta 0:00:32\n",
      "   --------------------- ------------------ 107.5/204.1 MB 3.1 MB/s eta 0:00:32\n",
      "   --------------------- ------------------ 108.0/204.1 MB 3.1 MB/s eta 0:00:32\n",
      "   --------------------- ------------------ 108.8/204.1 MB 3.1 MB/s eta 0:00:31\n",
      "   --------------------- ------------------ 109.6/204.1 MB 3.1 MB/s eta 0:00:31\n",
      "   --------------------- ------------------ 110.4/204.1 MB 3.1 MB/s eta 0:00:31\n",
      "   --------------------- ------------------ 111.1/204.1 MB 3.1 MB/s eta 0:00:31\n",
      "   --------------------- ------------------ 111.9/204.1 MB 3.1 MB/s eta 0:00:30\n",
      "   ---------------------- ----------------- 112.7/204.1 MB 3.1 MB/s eta 0:00:30\n",
      "   ---------------------- ----------------- 113.5/204.1 MB 3.1 MB/s eta 0:00:30\n",
      "   ---------------------- ----------------- 114.3/204.1 MB 3.0 MB/s eta 0:00:30\n",
      "   ---------------------- ----------------- 114.8/204.1 MB 3.0 MB/s eta 0:00:30\n",
      "   ---------------------- ----------------- 115.6/204.1 MB 3.0 MB/s eta 0:00:30\n",
      "   ---------------------- ----------------- 116.7/204.1 MB 3.0 MB/s eta 0:00:30\n",
      "   ----------------------- ---------------- 117.4/204.1 MB 3.0 MB/s eta 0:00:29\n",
      "   ----------------------- ---------------- 118.0/204.1 MB 3.0 MB/s eta 0:00:29\n",
      "   ----------------------- ---------------- 118.5/204.1 MB 3.0 MB/s eta 0:00:29\n",
      "   ----------------------- ---------------- 119.3/204.1 MB 2.9 MB/s eta 0:00:29\n",
      "   ----------------------- ---------------- 120.1/204.1 MB 2.9 MB/s eta 0:00:29\n",
      "   ----------------------- ---------------- 120.8/204.1 MB 2.9 MB/s eta 0:00:29\n",
      "   ----------------------- ---------------- 121.9/204.1 MB 2.9 MB/s eta 0:00:29\n",
      "   ----------------------- ---------------- 122.4/204.1 MB 2.9 MB/s eta 0:00:29\n",
      "   ------------------------ --------------- 123.2/204.1 MB 2.9 MB/s eta 0:00:28\n",
      "   ------------------------ --------------- 123.5/204.1 MB 2.9 MB/s eta 0:00:29\n",
      "   ------------------------ --------------- 124.0/204.1 MB 2.9 MB/s eta 0:00:29\n",
      "   ------------------------ --------------- 124.3/204.1 MB 2.8 MB/s eta 0:00:29\n",
      "   ------------------------ --------------- 124.8/204.1 MB 2.8 MB/s eta 0:00:29\n",
      "   ------------------------ --------------- 125.0/204.1 MB 2.8 MB/s eta 0:00:29\n",
      "   ------------------------ --------------- 125.6/204.1 MB 2.7 MB/s eta 0:00:29\n",
      "   ------------------------ --------------- 125.8/204.1 MB 2.7 MB/s eta 0:00:29\n",
      "   ------------------------ --------------- 126.4/204.1 MB 2.7 MB/s eta 0:00:29\n",
      "   ------------------------ --------------- 126.9/204.1 MB 2.7 MB/s eta 0:00:30\n",
      "   ------------------------ --------------- 127.1/204.1 MB 2.6 MB/s eta 0:00:30\n",
      "   ------------------------- -------------- 127.9/204.1 MB 2.6 MB/s eta 0:00:30\n",
      "   ------------------------- -------------- 128.2/204.1 MB 2.6 MB/s eta 0:00:30\n",
      "   ------------------------- -------------- 128.5/204.1 MB 2.6 MB/s eta 0:00:30\n",
      "   ------------------------- -------------- 129.2/204.1 MB 2.6 MB/s eta 0:00:30\n",
      "   ------------------------- -------------- 129.8/204.1 MB 2.5 MB/s eta 0:00:30\n",
      "   ------------------------- -------------- 130.0/204.1 MB 2.5 MB/s eta 0:00:30\n",
      "   ------------------------- -------------- 130.5/204.1 MB 2.5 MB/s eta 0:00:30\n",
      "   ------------------------- -------------- 131.1/204.1 MB 2.5 MB/s eta 0:00:30\n",
      "   ------------------------- -------------- 131.6/204.1 MB 2.5 MB/s eta 0:00:30\n",
      "   ------------------------- -------------- 132.1/204.1 MB 2.5 MB/s eta 0:00:30\n",
      "   -------------------------- ------------- 132.9/204.1 MB 2.5 MB/s eta 0:00:29\n",
      "   -------------------------- ------------- 133.7/204.1 MB 2.5 MB/s eta 0:00:29\n",
      "   -------------------------- ------------- 134.2/204.1 MB 2.5 MB/s eta 0:00:29\n",
      "   -------------------------- ------------- 135.3/204.1 MB 2.5 MB/s eta 0:00:28\n",
      "   -------------------------- ------------- 136.1/204.1 MB 2.5 MB/s eta 0:00:28\n",
      "   -------------------------- ------------- 137.1/204.1 MB 2.5 MB/s eta 0:00:27\n",
      "   -------------------------- ------------- 137.6/204.1 MB 2.5 MB/s eta 0:00:27\n",
      "   --------------------------- ------------ 137.9/204.1 MB 2.5 MB/s eta 0:00:27\n",
      "   --------------------------- ------------ 138.7/204.1 MB 2.5 MB/s eta 0:00:27\n",
      "   --------------------------- ------------ 139.7/204.1 MB 2.5 MB/s eta 0:00:26\n",
      "   --------------------------- ------------ 140.5/204.1 MB 2.5 MB/s eta 0:00:26\n",
      "   --------------------------- ------------ 141.6/204.1 MB 2.5 MB/s eta 0:00:25\n",
      "   --------------------------- ------------ 142.3/204.1 MB 2.5 MB/s eta 0:00:25\n",
      "   --------------------------- ------------ 142.9/204.1 MB 2.5 MB/s eta 0:00:25\n",
      "   ---------------------------- ----------- 143.4/204.1 MB 2.5 MB/s eta 0:00:24\n",
      "   ---------------------------- ----------- 144.2/204.1 MB 2.5 MB/s eta 0:00:24\n",
      "   ---------------------------- ----------- 144.4/204.1 MB 2.5 MB/s eta 0:00:24\n",
      "   ---------------------------- ----------- 145.2/204.1 MB 2.5 MB/s eta 0:00:24\n",
      "   ---------------------------- ----------- 146.0/204.1 MB 2.5 MB/s eta 0:00:23\n",
      "   ---------------------------- ----------- 146.5/204.1 MB 2.5 MB/s eta 0:00:23\n",
      "   ---------------------------- ----------- 147.3/204.1 MB 2.5 MB/s eta 0:00:23\n",
      "   ----------------------------- ---------- 148.1/204.1 MB 2.5 MB/s eta 0:00:23\n",
      "   ----------------------------- ---------- 148.9/204.1 MB 2.5 MB/s eta 0:00:22\n",
      "   ----------------------------- ---------- 149.9/204.1 MB 2.5 MB/s eta 0:00:22\n",
      "   ----------------------------- ---------- 150.5/204.1 MB 2.5 MB/s eta 0:00:22\n",
      "   ----------------------------- ---------- 151.0/204.1 MB 2.5 MB/s eta 0:00:21\n",
      "   ----------------------------- ---------- 151.0/204.1 MB 2.5 MB/s eta 0:00:21\n",
      "   ----------------------------- ---------- 151.0/204.1 MB 2.5 MB/s eta 0:00:21\n",
      "   ----------------------------- ---------- 151.3/204.1 MB 2.5 MB/s eta 0:00:22\n",
      "   ----------------------------- ---------- 152.0/204.1 MB 2.4 MB/s eta 0:00:22\n",
      "   ----------------------------- ---------- 152.6/204.1 MB 2.5 MB/s eta 0:00:21\n",
      "   ------------------------------ --------- 153.6/204.1 MB 2.6 MB/s eta 0:00:20\n",
      "   ------------------------------ --------- 154.4/204.1 MB 2.6 MB/s eta 0:00:20\n",
      "   ------------------------------ --------- 155.5/204.1 MB 2.6 MB/s eta 0:00:19\n",
      "   ------------------------------ --------- 156.0/204.1 MB 2.6 MB/s eta 0:00:19\n",
      "   ------------------------------ --------- 157.0/204.1 MB 2.6 MB/s eta 0:00:18\n",
      "   ------------------------------ --------- 157.8/204.1 MB 2.6 MB/s eta 0:00:18\n",
      "   ------------------------------- -------- 158.3/204.1 MB 2.6 MB/s eta 0:00:18\n",
      "   ------------------------------- -------- 159.4/204.1 MB 2.7 MB/s eta 0:00:17\n",
      "   ------------------------------- -------- 159.9/204.1 MB 2.7 MB/s eta 0:00:17\n",
      "   ------------------------------- -------- 161.0/204.1 MB 2.7 MB/s eta 0:00:17\n",
      "   ------------------------------- -------- 162.3/204.1 MB 2.7 MB/s eta 0:00:16\n",
      "   -------------------------------- ------- 163.3/204.1 MB 2.8 MB/s eta 0:00:15\n",
      "   -------------------------------- ------- 164.1/204.1 MB 2.8 MB/s eta 0:00:15\n",
      "   -------------------------------- ------- 164.9/204.1 MB 2.8 MB/s eta 0:00:15\n",
      "   -------------------------------- ------- 165.7/204.1 MB 2.8 MB/s eta 0:00:14\n",
      "   -------------------------------- ------- 166.7/204.1 MB 2.8 MB/s eta 0:00:14\n",
      "   -------------------------------- ------- 168.0/204.1 MB 2.8 MB/s eta 0:00:13\n",
      "   --------------------------------- ------ 168.8/204.1 MB 2.9 MB/s eta 0:00:13\n",
      "   --------------------------------- ------ 169.9/204.1 MB 2.9 MB/s eta 0:00:12\n",
      "   --------------------------------- ------ 171.2/204.1 MB 2.9 MB/s eta 0:00:12\n",
      "   --------------------------------- ------ 172.2/204.1 MB 2.9 MB/s eta 0:00:11\n",
      "   --------------------------------- ------ 172.8/204.1 MB 2.9 MB/s eta 0:00:11\n",
      "   ---------------------------------- ----- 173.5/204.1 MB 2.9 MB/s eta 0:00:11\n",
      "   ---------------------------------- ----- 174.6/204.1 MB 3.0 MB/s eta 0:00:10\n",
      "   ---------------------------------- ----- 175.4/204.1 MB 3.0 MB/s eta 0:00:10\n",
      "   ---------------------------------- ----- 176.7/204.1 MB 3.0 MB/s eta 0:00:10\n",
      "   ---------------------------------- ----- 178.0/204.1 MB 3.0 MB/s eta 0:00:09\n",
      "   ---------------------------------- ----- 178.5/204.1 MB 3.1 MB/s eta 0:00:09\n",
      "   ----------------------------------- ---- 179.3/204.1 MB 3.1 MB/s eta 0:00:08\n",
      "   ----------------------------------- ---- 180.6/204.1 MB 3.1 MB/s eta 0:00:08\n",
      "   ----------------------------------- ---- 182.2/204.1 MB 3.2 MB/s eta 0:00:07\n",
      "   ----------------------------------- ---- 183.5/204.1 MB 3.2 MB/s eta 0:00:07\n",
      "   ------------------------------------ --- 184.5/204.1 MB 3.2 MB/s eta 0:00:07\n",
      "   ------------------------------------ --- 186.1/204.1 MB 3.3 MB/s eta 0:00:06\n",
      "   ------------------------------------ --- 187.4/204.1 MB 3.3 MB/s eta 0:00:06\n",
      "   ------------------------------------- -- 189.0/204.1 MB 3.3 MB/s eta 0:00:05\n",
      "   ------------------------------------- -- 190.3/204.1 MB 3.4 MB/s eta 0:00:05\n",
      "   ------------------------------------- -- 191.6/204.1 MB 3.4 MB/s eta 0:00:04\n",
      "   ------------------------------------- -- 193.2/204.1 MB 3.4 MB/s eta 0:00:04\n",
      "   -------------------------------------- - 194.2/204.1 MB 3.5 MB/s eta 0:00:03\n",
      "   -------------------------------------- - 195.6/204.1 MB 3.5 MB/s eta 0:00:03\n",
      "   -------------------------------------- - 197.1/204.1 MB 3.5 MB/s eta 0:00:02\n",
      "   -------------------------------------- - 198.7/204.1 MB 3.6 MB/s eta 0:00:02\n",
      "   ---------------------------------------  200.0/204.1 MB 3.6 MB/s eta 0:00:02\n",
      "   ---------------------------------------  201.3/204.1 MB 3.6 MB/s eta 0:00:01\n",
      "   ---------------------------------------  202.4/204.1 MB 3.7 MB/s eta 0:00:01\n",
      "   ---------------------------------------  203.7/204.1 MB 3.7 MB/s eta 0:00:01\n",
      "   ---------------------------------------  203.9/204.1 MB 3.7 MB/s eta 0:00:01\n",
      "   ---------------------------------------  203.9/204.1 MB 3.7 MB/s eta 0:00:01\n",
      "   ---------------------------------------  203.9/204.1 MB 3.7 MB/s eta 0:00:01\n",
      "   ---------------------------------------- 204.1/204.1 MB 3.6 MB/s eta 0:00:00\n",
      "Using cached sympy-1.13.1-py3-none-any.whl (6.2 MB)\n",
      "Using cached torchvision-0.21.0-cp312-cp312-win_amd64.whl (1.6 MB)\n",
      "Using cached ultralytics_thop-2.0.14-py3-none-any.whl (26 kB)\n",
      "Using cached py_cpuinfo-9.0.0-py3-none-any.whl (22 kB)\n",
      "Using cached filelock-3.17.0-py3-none-any.whl (16 kB)\n",
      "Using cached fsspec-2025.2.0-py3-none-any.whl (184 kB)\n",
      "Using cached networkx-3.4.2-py3-none-any.whl (1.7 MB)\n",
      "Using cached mpmath-1.3.0-py3-none-any.whl (536 kB)\n",
      "Installing collected packages: py-cpuinfo, mpmath, sympy, networkx, fsspec, filelock, torch, matplotlib, ultralytics-thop, torchvision, ultralytics\n",
      "Successfully installed filelock-3.17.0 fsspec-2025.2.0 matplotlib-3.10.0 mpmath-1.3.0 networkx-3.4.2 py-cpuinfo-9.0.0 sympy-1.13.1 torch-2.6.0 torchvision-0.21.0 ultralytics-8.3.72 ultralytics-thop-2.0.14\n"
     ]
    },
    {
     "name": "stderr",
     "output_type": "stream",
     "text": [
      "WARNING: Ignoring invalid distribution ~atplotlib (C:\\Users\\srija\\AppData\\Local\\Packages\\PythonSoftwareFoundation.Python.3.12_qbz5n2kfra8p0\\LocalCache\\local-packages\\Python312\\site-packages)\n",
      "WARNING: Ignoring invalid distribution ~atplotlib (C:\\Users\\srija\\AppData\\Local\\Packages\\PythonSoftwareFoundation.Python.3.12_qbz5n2kfra8p0\\LocalCache\\local-packages\\Python312\\site-packages)\n",
      "WARNING: Ignoring invalid distribution ~atplotlib (C:\\Users\\srija\\AppData\\Local\\Packages\\PythonSoftwareFoundation.Python.3.12_qbz5n2kfra8p0\\LocalCache\\local-packages\\Python312\\site-packages)\n",
      "ERROR: pip's dependency resolver does not currently take into account all the packages that are installed. This behaviour is the source of the following dependency conflicts.\n",
      "pycaret 3.3.2 requires category-encoders>=2.4.0, which is not installed.\n",
      "pycaret 3.3.2 requires imbalanced-learn>=0.12.0, which is not installed.\n",
      "pycaret 3.3.2 requires lightgbm>=3.0.0, which is not installed.\n",
      "pycaret 3.3.2 requires plotly-resampler>=0.8.3.1, which is not installed.\n",
      "pycaret 3.3.2 requires pmdarima>=2.0.4, which is not installed.\n",
      "pycaret 3.3.2 requires pyod>=1.1.3, which is not installed.\n",
      "pycaret 3.3.2 requires scikit-plot>=0.3.7, which is not installed.\n",
      "pycaret 3.3.2 requires sktime==0.26.0, which is not installed.\n",
      "pycaret 3.3.2 requires statsmodels>=0.12.1, which is not installed.\n",
      "pycaret 3.3.2 requires tbats>=1.1.3, which is not installed.\n",
      "pycaret 3.3.2 requires yellowbrick>=1.4, which is not installed.\n",
      "pycaret 3.3.2 requires matplotlib<3.8.0, but you have matplotlib 3.10.0 which is incompatible.\n",
      "\n",
      "[notice] A new release of pip is available: 24.3.1 -> 25.0\n",
      "[notice] To update, run: C:\\Users\\srija\\AppData\\Local\\Microsoft\\WindowsApps\\PythonSoftwareFoundation.Python.3.12_qbz5n2kfra8p0\\python.exe -m pip install --upgrade pip\n"
     ]
    }
   ],
   "source": [
    "!pip install ultralytics\n"
   ]
  },
  {
   "cell_type": "code",
   "execution_count": 3,
   "metadata": {
    "execution": {
     "iopub.execute_input": "2025-02-07T06:07:58.203298Z",
     "iopub.status.busy": "2025-02-07T06:07:58.202794Z",
     "iopub.status.idle": "2025-02-07T06:07:58.235429Z",
     "shell.execute_reply": "2025-02-07T06:07:58.231317Z",
     "shell.execute_reply.started": "2025-02-07T06:07:58.203243Z"
    },
    "trusted": true
   },
   "outputs": [
    {
     "name": "stderr",
     "output_type": "stream",
     "text": [
      "C:\\Users\\srija\\AppData\\Local\\Packages\\PythonSoftwareFoundation.Python.3.12_qbz5n2kfra8p0\\LocalCache\\local-packages\\Python312\\site-packages\\torch\\utils\\_pytree.py:185: FutureWarning: optree is installed but the version is too old to support PyTorch Dynamo in C++ pytree. C++ pytree support is disabled. Please consider upgrading optree using `python3 -m pip install --upgrade 'optree>=0.13.0'`.\n",
      "  warnings.warn(\n",
      "Matplotlib is building the font cache; this may take a moment.\n"
     ]
    },
    {
     "name": "stdout",
     "output_type": "stream",
     "text": [
      "Creating new Ultralytics Settings v0.0.6 file  \n",
      "View Ultralytics Settings with 'yolo settings' or at 'C:\\Users\\srija\\AppData\\Roaming\\Ultralytics\\settings.json'\n",
      "Update Settings with 'yolo settings key=value', i.e. 'yolo settings runs_dir=path/to/dir'. For help see https://docs.ultralytics.com/quickstart/#ultralytics-settings.\n"
     ]
    }
   ],
   "source": [
    "from ultralytics import YOLO\n",
    "import cv2\n",
    "import matplotlib.pyplot as plt\n",
    "import os\n",
    "import pandas as pd\n",
    "import numpy as np"
   ]
  },
  {
   "cell_type": "code",
   "execution_count": 4,
   "metadata": {
    "execution": {
     "iopub.status.busy": "2025-02-07T06:07:58.236284Z",
     "iopub.status.idle": "2025-02-07T06:07:58.236717Z",
     "shell.execute_reply": "2025-02-07T06:07:58.236531Z",
     "shell.execute_reply.started": "2025-02-07T06:07:58.236499Z"
    },
    "trusted": true
   },
   "outputs": [],
   "source": [
    "os.mkdir('./yolov8')"
   ]
  },
  {
   "cell_type": "code",
   "execution_count": 5,
   "metadata": {
    "execution": {
     "iopub.status.busy": "2025-02-07T06:07:58.238689Z",
     "iopub.status.idle": "2025-02-07T06:07:58.239115Z",
     "shell.execute_reply": "2025-02-07T06:07:58.238947Z",
     "shell.execute_reply.started": "2025-02-07T06:07:58.238927Z"
    },
    "trusted": true
   },
   "outputs": [
    {
     "name": "stdout",
     "output_type": "stream",
     "text": [
      "Downloading https://github.com/ultralytics/assets/releases/download/v8.3.0/yolov8l.pt to 'yolov8l.pt'...\n"
     ]
    },
    {
     "name": "stderr",
     "output_type": "stream",
     "text": [
      "100%|██████████| 83.7M/83.7M [00:17<00:00, 5.14MB/s]\n"
     ]
    }
   ],
   "source": [
    "model = YOLO(\"yolov8l.pt\")\n"
   ]
  },
  {
   "cell_type": "code",
   "execution_count": 6,
   "metadata": {
    "execution": {
     "iopub.status.busy": "2025-02-07T06:07:58.241031Z",
     "iopub.status.idle": "2025-02-07T06:07:58.241446Z",
     "shell.execute_reply": "2025-02-07T06:07:58.241293Z",
     "shell.execute_reply.started": "2025-02-07T06:07:58.241274Z"
    },
    "trusted": true
   },
   "outputs": [
    {
     "data": {
      "text/plain": [
       "{0: 'person',\n",
       " 1: 'bicycle',\n",
       " 2: 'car',\n",
       " 3: 'motorcycle',\n",
       " 4: 'airplane',\n",
       " 5: 'bus',\n",
       " 6: 'train',\n",
       " 7: 'truck',\n",
       " 8: 'boat',\n",
       " 9: 'traffic light',\n",
       " 10: 'fire hydrant',\n",
       " 11: 'stop sign',\n",
       " 12: 'parking meter',\n",
       " 13: 'bench',\n",
       " 14: 'bird',\n",
       " 15: 'cat',\n",
       " 16: 'dog',\n",
       " 17: 'horse',\n",
       " 18: 'sheep',\n",
       " 19: 'cow',\n",
       " 20: 'elephant',\n",
       " 21: 'bear',\n",
       " 22: 'zebra',\n",
       " 23: 'giraffe',\n",
       " 24: 'backpack',\n",
       " 25: 'umbrella',\n",
       " 26: 'handbag',\n",
       " 27: 'tie',\n",
       " 28: 'suitcase',\n",
       " 29: 'frisbee',\n",
       " 30: 'skis',\n",
       " 31: 'snowboard',\n",
       " 32: 'sports ball',\n",
       " 33: 'kite',\n",
       " 34: 'baseball bat',\n",
       " 35: 'baseball glove',\n",
       " 36: 'skateboard',\n",
       " 37: 'surfboard',\n",
       " 38: 'tennis racket',\n",
       " 39: 'bottle',\n",
       " 40: 'wine glass',\n",
       " 41: 'cup',\n",
       " 42: 'fork',\n",
       " 43: 'knife',\n",
       " 44: 'spoon',\n",
       " 45: 'bowl',\n",
       " 46: 'banana',\n",
       " 47: 'apple',\n",
       " 48: 'sandwich',\n",
       " 49: 'orange',\n",
       " 50: 'broccoli',\n",
       " 51: 'carrot',\n",
       " 52: 'hot dog',\n",
       " 53: 'pizza',\n",
       " 54: 'donut',\n",
       " 55: 'cake',\n",
       " 56: 'chair',\n",
       " 57: 'couch',\n",
       " 58: 'potted plant',\n",
       " 59: 'bed',\n",
       " 60: 'dining table',\n",
       " 61: 'toilet',\n",
       " 62: 'tv',\n",
       " 63: 'laptop',\n",
       " 64: 'mouse',\n",
       " 65: 'remote',\n",
       " 66: 'keyboard',\n",
       " 67: 'cell phone',\n",
       " 68: 'microwave',\n",
       " 69: 'oven',\n",
       " 70: 'toaster',\n",
       " 71: 'sink',\n",
       " 72: 'refrigerator',\n",
       " 73: 'book',\n",
       " 74: 'clock',\n",
       " 75: 'vase',\n",
       " 76: 'scissors',\n",
       " 77: 'teddy bear',\n",
       " 78: 'hair drier',\n",
       " 79: 'toothbrush'}"
      ]
     },
     "execution_count": 6,
     "metadata": {},
     "output_type": "execute_result"
    }
   ],
   "source": [
    "model.model.names"
   ]
  },
  {
   "cell_type": "code",
   "execution_count": 7,
   "metadata": {
    "execution": {
     "iopub.status.busy": "2025-02-07T06:07:58.243162Z",
     "iopub.status.idle": "2025-02-07T06:07:58.243507Z",
     "shell.execute_reply": "2025-02-07T06:07:58.243357Z",
     "shell.execute_reply.started": "2025-02-07T06:07:58.243339Z"
    },
    "trusted": true
   },
   "outputs": [],
   "source": [
    "#Class Label from the weapon class map 'Automatic Rifle': 0, 'Bazooka': 1, \n",
    "#'Grenade Launcher': 2, 'Handgun': 3, 'Knife': 4, 'Shotgun': 5, 'SMG': 6, \n",
    "#'Sniper': 7, 'Sword': 8\n",
    "\n"
   ]
  },
  {
   "cell_type": "code",
   "execution_count": 9,
   "metadata": {
    "execution": {
     "iopub.status.busy": "2025-02-07T06:07:58.245705Z",
     "iopub.status.idle": "2025-02-07T06:07:58.246255Z",
     "shell.execute_reply": "2025-02-07T06:07:58.245996Z",
     "shell.execute_reply.started": "2025-02-07T06:07:58.245970Z"
    },
    "trusted": true
   },
   "outputs": [],
   "source": [
    "# create yaml file\n",
    "\n",
    "yolo_format=dict(path=\"/kaggle/input/weapon-detection-test/weapon_detection\",\n",
    "                 train=\"/kaggle/input/weapon-detection-test/weapon_detection/train\",\n",
    "                 val=\"/kaggle/input/weapon-detection-test/weapon_detection/val\",\n",
    "                 nc=9,\n",
    "                 names={0:'Automatic Rifle', 1:'Bazooka',3: 'Handgun', 4:'Knife', 2:'Grenade Launcher', 5:'Shotgun', 6:'SMG', 7:'Sniper', 8:'Sword'})"
   ]
  },
  {
   "cell_type": "code",
   "execution_count": 11,
   "metadata": {
    "execution": {
     "iopub.status.busy": "2025-02-07T06:07:58.247418Z",
     "iopub.status.idle": "2025-02-07T06:07:58.247952Z",
     "shell.execute_reply": "2025-02-07T06:07:58.247693Z",
     "shell.execute_reply.started": "2025-02-07T06:07:58.247667Z"
    },
    "trusted": true
   },
   "outputs": [
    {
     "name": "stderr",
     "output_type": "stream",
     "text": [
      "<>:4: SyntaxWarning: invalid escape sequence '\\p'\n",
      "<>:4: SyntaxWarning: invalid escape sequence '\\p'\n",
      "C:\\Users\\srija\\AppData\\Local\\Temp\\ipykernel_15992\\1898781104.py:4: SyntaxWarning: invalid escape sequence '\\p'\n",
      "  with open('D:\\projects\\summer internship\\yolov8\\data.yaml', 'w') as f:\n"
     ]
    }
   ],
   "source": [
    "import yaml\n",
    "\n",
    "# write the data to the .yaml file\n",
    "with open('D:\\projects\\summer internship\\yolov8\\data.yaml', 'w') as f:\n",
    "    yaml.dump(yolo_format, f)"
   ]
  },
  {
   "cell_type": "code",
   "execution_count": 12,
   "metadata": {
    "execution": {
     "iopub.status.busy": "2025-02-07T06:07:58.249920Z",
     "iopub.status.idle": "2025-02-07T06:07:58.250436Z",
     "shell.execute_reply": "2025-02-07T06:07:58.250205Z",
     "shell.execute_reply.started": "2025-02-07T06:07:58.250179Z"
    },
    "trusted": true
   },
   "outputs": [
    {
     "name": "stderr",
     "output_type": "stream",
     "text": [
      "<>:2: SyntaxWarning: invalid escape sequence '\\p'\n",
      "<>:2: SyntaxWarning: invalid escape sequence '\\p'\n",
      "C:\\Users\\srija\\AppData\\Local\\Temp\\ipykernel_15992\\2356825076.py:2: SyntaxWarning: invalid escape sequence '\\p'\n",
      "  with open('D:\\projects\\summer internship\\yolov8\\data.yaml', 'r') as f:\n"
     ]
    },
    {
     "data": {
      "text/plain": [
       "{'names': {0: 'Automatic Rifle',\n",
       "  1: 'Bazooka',\n",
       "  2: 'Grenade Launcher',\n",
       "  3: 'Handgun',\n",
       "  4: 'Knife',\n",
       "  5: 'Shotgun',\n",
       "  6: 'SMG',\n",
       "  7: 'Sniper',\n",
       "  8: 'Sword'},\n",
       " 'nc': 9,\n",
       " 'path': '/kaggle/input/weapon-detection-test/weapon_detection',\n",
       " 'train': '/kaggle/input/weapon-detection-test/weapon_detection/train',\n",
       " 'val': '/kaggle/input/weapon-detection-test/weapon_detection/val'}"
      ]
     },
     "metadata": {},
     "output_type": "display_data"
    }
   ],
   "source": [
    "# read the content in .yaml file\n",
    "with open('D:\\projects\\summer internship\\yolov8\\data.yaml', 'r') as f:\n",
    "    yaml_weap = yaml.safe_load(f)\n",
    "    display(yaml_weap)"
   ]
  },
  {
   "cell_type": "code",
   "execution_count": 14,
   "metadata": {},
   "outputs": [
    {
     "name": "stdout",
     "output_type": "stream",
     "text": [
      "Defaulting to user installation because normal site-packages is not writeable\n",
      "Collecting wandb\n",
      "  Downloading wandb-0.19.6-py3-none-win_amd64.whl.metadata (10 kB)\n",
      "Requirement already satisfied: click!=8.0.0,>=7.1 in c:\\users\\srija\\appdata\\local\\packages\\pythonsoftwarefoundation.python.3.12_qbz5n2kfra8p0\\localcache\\local-packages\\python312\\site-packages (from wandb) (8.1.8)\n",
      "Collecting docker-pycreds>=0.4.0 (from wandb)\n",
      "  Downloading docker_pycreds-0.4.0-py2.py3-none-any.whl.metadata (1.8 kB)\n",
      "Collecting gitpython!=3.1.29,>=1.0.0 (from wandb)\n",
      "  Downloading GitPython-3.1.44-py3-none-any.whl.metadata (13 kB)\n",
      "Requirement already satisfied: platformdirs in c:\\users\\srija\\appdata\\local\\packages\\pythonsoftwarefoundation.python.3.12_qbz5n2kfra8p0\\localcache\\local-packages\\python312\\site-packages (from wandb) (4.2.2)\n",
      "Requirement already satisfied: protobuf!=4.21.0,!=5.28.0,<6,>=3.19.0 in c:\\users\\srija\\appdata\\local\\packages\\pythonsoftwarefoundation.python.3.12_qbz5n2kfra8p0\\localcache\\local-packages\\python312\\site-packages (from wandb) (4.25.3)\n",
      "Requirement already satisfied: psutil>=5.0.0 in c:\\users\\srija\\appdata\\local\\packages\\pythonsoftwarefoundation.python.3.12_qbz5n2kfra8p0\\localcache\\local-packages\\python312\\site-packages (from wandb) (6.0.0)\n",
      "Collecting pydantic<3,>=2.6 (from wandb)\n",
      "  Downloading pydantic-2.10.6-py3-none-any.whl.metadata (30 kB)\n",
      "Requirement already satisfied: pyyaml in c:\\users\\srija\\appdata\\local\\packages\\pythonsoftwarefoundation.python.3.12_qbz5n2kfra8p0\\localcache\\local-packages\\python312\\site-packages (from wandb) (6.0.1)\n",
      "Requirement already satisfied: requests<3,>=2.0.0 in c:\\users\\srija\\appdata\\local\\packages\\pythonsoftwarefoundation.python.3.12_qbz5n2kfra8p0\\localcache\\local-packages\\python312\\site-packages (from wandb) (2.32.3)\n",
      "Collecting sentry-sdk>=2.0.0 (from wandb)\n",
      "  Downloading sentry_sdk-2.20.0-py2.py3-none-any.whl.metadata (10 kB)\n",
      "Collecting setproctitle (from wandb)\n",
      "  Downloading setproctitle-1.3.4-cp312-cp312-win_amd64.whl.metadata (10 kB)\n",
      "Requirement already satisfied: setuptools in c:\\users\\srija\\appdata\\local\\packages\\pythonsoftwarefoundation.python.3.12_qbz5n2kfra8p0\\localcache\\local-packages\\python312\\site-packages (from wandb) (69.5.1)\n",
      "Requirement already satisfied: colorama in c:\\users\\srija\\appdata\\local\\packages\\pythonsoftwarefoundation.python.3.12_qbz5n2kfra8p0\\localcache\\local-packages\\python312\\site-packages (from click!=8.0.0,>=7.1->wandb) (0.4.6)\n",
      "Requirement already satisfied: six>=1.4.0 in c:\\users\\srija\\appdata\\local\\packages\\pythonsoftwarefoundation.python.3.12_qbz5n2kfra8p0\\localcache\\local-packages\\python312\\site-packages (from docker-pycreds>=0.4.0->wandb) (1.16.0)\n",
      "Collecting gitdb<5,>=4.0.1 (from gitpython!=3.1.29,>=1.0.0->wandb)\n",
      "  Downloading gitdb-4.0.12-py3-none-any.whl.metadata (1.2 kB)\n",
      "Collecting annotated-types>=0.6.0 (from pydantic<3,>=2.6->wandb)\n",
      "  Downloading annotated_types-0.7.0-py3-none-any.whl.metadata (15 kB)\n",
      "Collecting pydantic-core==2.27.2 (from pydantic<3,>=2.6->wandb)\n",
      "  Downloading pydantic_core-2.27.2-cp312-cp312-win_amd64.whl.metadata (6.7 kB)\n",
      "Collecting typing-extensions>=4.12.2 (from pydantic<3,>=2.6->wandb)\n",
      "  Using cached typing_extensions-4.12.2-py3-none-any.whl.metadata (3.0 kB)\n",
      "Requirement already satisfied: charset-normalizer<4,>=2 in c:\\users\\srija\\appdata\\local\\packages\\pythonsoftwarefoundation.python.3.12_qbz5n2kfra8p0\\localcache\\local-packages\\python312\\site-packages (from requests<3,>=2.0.0->wandb) (3.3.2)\n",
      "Requirement already satisfied: idna<4,>=2.5 in c:\\users\\srija\\appdata\\local\\packages\\pythonsoftwarefoundation.python.3.12_qbz5n2kfra8p0\\localcache\\local-packages\\python312\\site-packages (from requests<3,>=2.0.0->wandb) (3.7)\n",
      "Requirement already satisfied: urllib3<3,>=1.21.1 in c:\\users\\srija\\appdata\\local\\packages\\pythonsoftwarefoundation.python.3.12_qbz5n2kfra8p0\\localcache\\local-packages\\python312\\site-packages (from requests<3,>=2.0.0->wandb) (2.2.2)\n",
      "Requirement already satisfied: certifi>=2017.4.17 in c:\\users\\srija\\appdata\\local\\packages\\pythonsoftwarefoundation.python.3.12_qbz5n2kfra8p0\\localcache\\local-packages\\python312\\site-packages (from requests<3,>=2.0.0->wandb) (2024.6.2)\n",
      "Collecting smmap<6,>=3.0.1 (from gitdb<5,>=4.0.1->gitpython!=3.1.29,>=1.0.0->wandb)\n",
      "  Downloading smmap-5.0.2-py3-none-any.whl.metadata (4.3 kB)\n",
      "Downloading wandb-0.19.6-py3-none-win_amd64.whl (20.2 MB)\n",
      "   ---------------------------------------- 0.0/20.2 MB ? eta -:--:--\n",
      "   - -------------------------------------- 0.8/20.2 MB 8.5 MB/s eta 0:00:03\n",
      "   - -------------------------------------- 0.8/20.2 MB 8.5 MB/s eta 0:00:03\n",
      "   - -------------------------------------- 0.8/20.2 MB 8.5 MB/s eta 0:00:03\n",
      "   -- ------------------------------------- 1.0/20.2 MB 1.1 MB/s eta 0:00:17\n",
      "   -- ------------------------------------- 1.3/20.2 MB 1.3 MB/s eta 0:00:15\n",
      "   ---- ----------------------------------- 2.1/20.2 MB 1.6 MB/s eta 0:00:12\n",
      "   ----- ---------------------------------- 2.6/20.2 MB 1.8 MB/s eta 0:00:11\n",
      "   ------- -------------------------------- 3.7/20.2 MB 2.2 MB/s eta 0:00:08\n",
      "   ---------- ----------------------------- 5.5/20.2 MB 2.9 MB/s eta 0:00:06\n",
      "   ------------- -------------------------- 6.8/20.2 MB 3.3 MB/s eta 0:00:05\n",
      "   ---------------- ----------------------- 8.1/20.2 MB 3.6 MB/s eta 0:00:04\n",
      "   ------------------- -------------------- 9.7/20.2 MB 3.9 MB/s eta 0:00:03\n",
      "   --------------------- ------------------ 11.0/20.2 MB 4.1 MB/s eta 0:00:03\n",
      "   ------------------------- -------------- 12.8/20.2 MB 4.5 MB/s eta 0:00:02\n",
      "   --------------------------- ------------ 13.9/20.2 MB 4.5 MB/s eta 0:00:02\n",
      "   ------------------------------ --------- 15.5/20.2 MB 4.7 MB/s eta 0:00:02\n",
      "   --------------------------------- ------ 16.8/20.2 MB 4.8 MB/s eta 0:00:01\n",
      "   ----------------------------------- ---- 18.1/20.2 MB 4.9 MB/s eta 0:00:01\n",
      "   -------------------------------------- - 19.7/20.2 MB 5.0 MB/s eta 0:00:01\n",
      "   ---------------------------------------- 20.2/20.2 MB 5.0 MB/s eta 0:00:00\n",
      "Downloading docker_pycreds-0.4.0-py2.py3-none-any.whl (9.0 kB)\n",
      "Downloading GitPython-3.1.44-py3-none-any.whl (207 kB)\n",
      "Downloading pydantic-2.10.6-py3-none-any.whl (431 kB)\n",
      "Downloading pydantic_core-2.27.2-cp312-cp312-win_amd64.whl (2.0 MB)\n",
      "   ---------------------------------------- 0.0/2.0 MB ? eta -:--:--\n",
      "   --------------- ------------------------ 0.8/2.0 MB 3.7 MB/s eta 0:00:01\n",
      "   ---------------------------------------- 2.0/2.0 MB 4.6 MB/s eta 0:00:00\n",
      "Downloading sentry_sdk-2.20.0-py2.py3-none-any.whl (322 kB)\n",
      "Downloading setproctitle-1.3.4-cp312-cp312-win_amd64.whl (12 kB)\n",
      "Downloading annotated_types-0.7.0-py3-none-any.whl (13 kB)\n",
      "Downloading gitdb-4.0.12-py3-none-any.whl (62 kB)\n",
      "Using cached typing_extensions-4.12.2-py3-none-any.whl (37 kB)\n",
      "Downloading smmap-5.0.2-py3-none-any.whl (24 kB)\n",
      "Installing collected packages: typing-extensions, smmap, setproctitle, sentry-sdk, docker-pycreds, annotated-types, pydantic-core, gitdb, pydantic, gitpython, wandb\n",
      "  Attempting uninstall: typing-extensions\n",
      "    Found existing installation: typing_extensions 4.11.0\n",
      "    Uninstalling typing_extensions-4.11.0:\n",
      "      Successfully uninstalled typing_extensions-4.11.0\n",
      "Successfully installed annotated-types-0.7.0 docker-pycreds-0.4.0 gitdb-4.0.12 gitpython-3.1.44 pydantic-2.10.6 pydantic-core-2.27.2 sentry-sdk-2.20.0 setproctitle-1.3.4 smmap-5.0.2 typing-extensions-4.12.2 wandb-0.19.6\n"
     ]
    },
    {
     "name": "stderr",
     "output_type": "stream",
     "text": [
      "WARNING: Ignoring invalid distribution ~atplotlib (C:\\Users\\srija\\AppData\\Local\\Packages\\PythonSoftwareFoundation.Python.3.12_qbz5n2kfra8p0\\LocalCache\\local-packages\\Python312\\site-packages)\n",
      "WARNING: Ignoring invalid distribution ~atplotlib (C:\\Users\\srija\\AppData\\Local\\Packages\\PythonSoftwareFoundation.Python.3.12_qbz5n2kfra8p0\\LocalCache\\local-packages\\Python312\\site-packages)\n",
      "WARNING: Ignoring invalid distribution ~atplotlib (C:\\Users\\srija\\AppData\\Local\\Packages\\PythonSoftwareFoundation.Python.3.12_qbz5n2kfra8p0\\LocalCache\\local-packages\\Python312\\site-packages)\n",
      "\n",
      "[notice] A new release of pip is available: 24.3.1 -> 25.0\n",
      "[notice] To update, run: C:\\Users\\srija\\AppData\\Local\\Microsoft\\WindowsApps\\PythonSoftwareFoundation.Python.3.12_qbz5n2kfra8p0\\python.exe -m pip install --upgrade pip\n"
     ]
    }
   ],
   "source": [
    "!pip install wandb"
   ]
  },
  {
   "cell_type": "code",
   "execution_count": 15,
   "metadata": {
    "execution": {
     "iopub.status.busy": "2025-02-07T06:07:58.251914Z",
     "iopub.status.idle": "2025-02-07T06:07:58.252422Z",
     "shell.execute_reply": "2025-02-07T06:07:58.252187Z",
     "shell.execute_reply.started": "2025-02-07T06:07:58.252150Z"
    },
    "trusted": true
   },
   "outputs": [
    {
     "data": {
      "text/html": [
       "<button onClick=\"this.nextSibling.style.display='block';this.style.display='none';\">Display W&B run</button><iframe src='https://wandb.ai/dummy/dummy/runs/t4vmrnga?jupyter=true' style='border:none;width:100%;height:420px;display:none;'></iframe>"
      ],
      "text/plain": [
       "<wandb.sdk.wandb_run.Run at 0x1fc8548e120>"
      ]
     },
     "execution_count": 15,
     "metadata": {},
     "output_type": "execute_result"
    }
   ],
   "source": [
    "import wandb\n",
    "wandb.init(mode='disabled')"
   ]
  },
  {
   "cell_type": "code",
   "execution_count": null,
   "metadata": {
    "execution": {
     "iopub.status.busy": "2025-02-07T06:07:58.253598Z",
     "iopub.status.idle": "2025-02-07T06:07:58.254146Z",
     "shell.execute_reply": "2025-02-07T06:07:58.253876Z",
     "shell.execute_reply.started": "2025-02-07T06:07:58.253831Z"
    },
    "trusted": true
   },
   "outputs": [
    {
     "name": "stdout",
     "output_type": "stream",
     "text": [
      "Ultralytics 8.3.72  Python-3.12.9 torch-2.6.0+cpu CPU (13th Gen Intel Core(TM) i7-1360P)\n",
      "\u001b[34m\u001b[1mengine\\trainer: \u001b[0mtask=detect, mode=train, model=yolov8l.pt, data=D:/projects/summer internship/yolov8/data.yaml, epochs=50, time=None, patience=100, batch=24, imgsz=640, save=True, save_period=-1, cache=False, device=None, workers=8, project=None, name=train7, exist_ok=False, pretrained=True, optimizer=auto, verbose=True, seed=0, deterministic=True, single_cls=False, rect=False, cos_lr=False, close_mosaic=10, resume=False, amp=True, fraction=1.0, profile=False, freeze=None, multi_scale=False, overlap_mask=True, mask_ratio=4, dropout=0.0, val=True, split=val, save_json=False, save_hybrid=False, conf=None, iou=0.7, max_det=300, half=False, dnn=False, plots=True, source=None, vid_stride=1, stream_buffer=False, visualize=False, augment=False, agnostic_nms=False, classes=None, retina_masks=False, embed=None, show=False, save_frames=False, save_txt=False, save_conf=False, save_crop=False, show_labels=True, show_conf=True, show_boxes=True, line_width=None, format=torchscript, keras=False, optimize=False, int8=False, dynamic=False, simplify=True, opset=None, workspace=None, nms=False, lr0=0.01, lrf=0.01, momentum=0.937, weight_decay=0.0005, warmup_epochs=3.0, warmup_momentum=0.8, warmup_bias_lr=0.1, box=7.5, cls=0.5, dfl=1.5, pose=12.0, kobj=1.0, nbs=64, hsv_h=0.015, hsv_s=0.7, hsv_v=0.4, degrees=0.0, translate=0.1, scale=0.5, shear=0.0, perspective=0.0, flipud=0.0, fliplr=0.5, bgr=0.0, mosaic=1.0, mixup=0.0, copy_paste=0.0, copy_paste_mode=flip, auto_augment=randaugment, erasing=0.4, crop_fraction=1.0, cfg=None, tracker=botsort.yaml, save_dir=runs\\detect\\train7\n",
      "Downloading https://ultralytics.com/assets/Arial.ttf to 'C:\\Users\\srija\\AppData\\Roaming\\Ultralytics\\Arial.ttf'...\n"
     ]
    },
    {
     "name": "stderr",
     "output_type": "stream",
     "text": [
      "100%|██████████| 755k/755k [00:00<00:00, 4.91MB/s]\n"
     ]
    },
    {
     "name": "stdout",
     "output_type": "stream",
     "text": [
      "Overriding model.yaml nc=80 with nc=9\n",
      "\n",
      "                   from  n    params  module                                       arguments                     \n",
      "  0                  -1  1      1856  ultralytics.nn.modules.conv.Conv             [3, 64, 3, 2]                 \n",
      "  1                  -1  1     73984  ultralytics.nn.modules.conv.Conv             [64, 128, 3, 2]               \n",
      "  2                  -1  3    279808  ultralytics.nn.modules.block.C2f             [128, 128, 3, True]           \n",
      "  3                  -1  1    295424  ultralytics.nn.modules.conv.Conv             [128, 256, 3, 2]              \n",
      "  4                  -1  6   2101248  ultralytics.nn.modules.block.C2f             [256, 256, 6, True]           \n",
      "  5                  -1  1   1180672  ultralytics.nn.modules.conv.Conv             [256, 512, 3, 2]              \n",
      "  6                  -1  6   8396800  ultralytics.nn.modules.block.C2f             [512, 512, 6, True]           \n",
      "  7                  -1  1   2360320  ultralytics.nn.modules.conv.Conv             [512, 512, 3, 2]              \n",
      "  8                  -1  3   4461568  ultralytics.nn.modules.block.C2f             [512, 512, 3, True]           \n",
      "  9                  -1  1    656896  ultralytics.nn.modules.block.SPPF            [512, 512, 5]                 \n",
      " 10                  -1  1         0  torch.nn.modules.upsampling.Upsample         [None, 2, 'nearest']          \n",
      " 11             [-1, 6]  1         0  ultralytics.nn.modules.conv.Concat           [1]                           \n",
      " 12                  -1  3   4723712  ultralytics.nn.modules.block.C2f             [1024, 512, 3]                \n",
      " 13                  -1  1         0  torch.nn.modules.upsampling.Upsample         [None, 2, 'nearest']          \n",
      " 14             [-1, 4]  1         0  ultralytics.nn.modules.conv.Concat           [1]                           \n",
      " 15                  -1  3   1247744  ultralytics.nn.modules.block.C2f             [768, 256, 3]                 \n",
      " 16                  -1  1    590336  ultralytics.nn.modules.conv.Conv             [256, 256, 3, 2]              \n",
      " 17            [-1, 12]  1         0  ultralytics.nn.modules.conv.Concat           [1]                           \n",
      " 18                  -1  3   4592640  ultralytics.nn.modules.block.C2f             [768, 512, 3]                 \n",
      " 19                  -1  1   2360320  ultralytics.nn.modules.conv.Conv             [512, 512, 3, 2]              \n",
      " 20             [-1, 9]  1         0  ultralytics.nn.modules.conv.Concat           [1]                           \n",
      " 21                  -1  3   4723712  ultralytics.nn.modules.block.C2f             [1024, 512, 3]                \n",
      " 22        [15, 18, 21]  1   5589739  ultralytics.nn.modules.head.Detect           [9, [256, 512, 512]]          \n",
      "Model summary: 365 layers, 43,636,779 parameters, 43,636,763 gradients, 165.4 GFLOPs\n",
      "\n",
      "Transferred 589/595 items from pretrained weights\n",
      "\u001b[34m\u001b[1mTensorBoard: \u001b[0mStart with 'tensorboard --logdir runs\\detect\\train7', view at http://localhost:6006/\n",
      "Freezing layer 'model.22.dfl.conv.weight'\n"
     ]
    },
    {
     "name": "stderr",
     "output_type": "stream",
     "text": [
      "train: Scanning D:\\projects\\summer internship\\weapon\\train\\labels...:   0%|          | 0/571 [00:00<?, ?it/s]Scanning D:\\projects\\summer internship\\weapon\\train\\labels... 1 images, 0 backgrounds, 0 corrupt:   0%|          | 1/571 [00:00<01:48,  5.24it/s]Scanning D:\\projects\\summer internship\\weapon\\train\\labels... 34 images, 0 backgrounds, 0 corrupt:   6%|▌         | 34/571 [00:00<00:03, 142.13it/s]Scanning D:\\projects\\summer internship\\weapon\\train\\labels... 83 images, 0 backgrounds, 0 corrupt:  15%|█▍        | 83/571 [00:00<00:01, 269.60it/s]Scanning D:\\projects\\summer internship\\weapon\\train\\labels... 141 images, 0 backgrounds, 0 corrupt:  25%|██▍       | 141/571 [00:00<00:01, 366.57it/s]Scanning D:\\projects\\summer internship\\weapon\\train\\labels... 201 images, 0 backgrounds, 0 corrupt:  35%|███▌      | 201/571 [00:00<00:00, 441.13it/s]Scanning D:\\projects\\summer internship\\weapon\\train\\labels... 269 images, 0 backgrounds, 0 corrupt:  47%|████▋     | 269/571 [00:00<00:00, 513.49it/s]Scanning D:\\projects\\summer internship\\weapon\\train\\labels... 332 images, 0 backgrounds, 0 corrupt:  58%|█████▊    | 332/571 [00:00<00:00, 545.04it/s]Scanning D:\\projects\\summer internship\\weapon\\train\\labels... 389 images, 0 backgrounds, 0 corrupt:  68%|██████▊   | 389/571 [00:00<00:00, 531.99it/s]Scanning D:\\projects\\summer internship\\weapon\\train\\labels... 444 images, 0 backgrounds, 0 corrupt:  78%|███████▊  | 444/571 [00:01<00:00, 535.19it/s]Scanning D:\\projects\\summer internship\\weapon\\train\\labels... 503 images, 0 backgrounds, 0 corrupt:  88%|████████▊ | 503/571 [00:01<00:00, 551.09it/s]Scanning D:\\projects\\summer internship\\weapon\\train\\labels... 562 images, 0 backgrounds, 0 corrupt:  98%|█████████▊| 562/571 [00:01<00:00, 559.59it/s]Scanning D:\\projects\\summer internship\\weapon\\train\\labels... 571 images, 0 backgrounds, 0 corrupt: 100%|██████████| 571/571 [00:01<00:00, 458.04it/s]\n"
     ]
    },
    {
     "name": "stdout",
     "output_type": "stream",
     "text": [
      "\u001b[34m\u001b[1mtrain: \u001b[0mNew cache created: D:\\projects\\summer internship\\weapon\\train\\labels.cache\n"
     ]
    },
    {
     "name": "stderr",
     "output_type": "stream",
     "text": [
      "val: Scanning D:\\projects\\summer internship\\weapon\\val\\labels...:   0%|          | 0/143 [00:00<?, ?it/s]Scanning D:\\projects\\summer internship\\weapon\\val\\labels... 38 images, 0 backgrounds, 0 corrupt:  27%|██▋       | 38/143 [00:00<00:00, 372.65it/s]Scanning D:\\projects\\summer internship\\weapon\\val\\labels... 95 images, 0 backgrounds, 0 corrupt:  66%|██████▋   | 95/143 [00:00<00:00, 485.20it/s]Scanning D:\\projects\\summer internship\\weapon\\val\\labels... 143 images, 0 backgrounds, 0 corrupt: 100%|██████████| 143/143 [00:00<00:00, 522.50it/s]\n"
     ]
    },
    {
     "name": "stdout",
     "output_type": "stream",
     "text": [
      "\u001b[34m\u001b[1mval: \u001b[0mNew cache created: D:\\projects\\summer internship\\weapon\\val\\labels.cache\n",
      "Plotting labels to runs\\detect\\train7\\labels.jpg... \n",
      "\u001b[34m\u001b[1moptimizer:\u001b[0m 'optimizer=auto' found, ignoring 'lr0=0.01' and 'momentum=0.937' and determining best 'optimizer', 'lr0' and 'momentum' automatically... \n",
      "\u001b[34m\u001b[1moptimizer:\u001b[0m AdamW(lr=0.000769, momentum=0.9) with parameter groups 97 weight(decay=0.0), 104 weight(decay=0.0005625000000000001), 103 bias(decay=0.0)\n",
      "\u001b[34m\u001b[1mTensorBoard: \u001b[0mmodel graph visualization added \n",
      "Image sizes 640 train, 640 val\n",
      "Using 0 dataloader workers\n",
      "Logging results to \u001b[1mruns\\detect\\train7\u001b[0m\n",
      "Starting training for 50 epochs...\n",
      "\n",
      "      Epoch    GPU_mem   box_loss   cls_loss   dfl_loss  Instances       Size\n"
     ]
    },
    {
     "name": "stderr",
     "output_type": "stream",
     "text": [
      "       1/50         0G      1.142      3.779      1.414        147        640:   4%|▍         | 1/24 [02:26<56:08, 146.44s/it]"
     ]
    }
   ],
   "source": [
    "model.train(data=r'D:/projects/summer internship/yolov8/data.yaml', epochs=50, batch=24)"
   ]
  },
  {
   "cell_type": "code",
   "execution_count": null,
   "metadata": {
    "execution": {
     "iopub.status.busy": "2025-02-07T06:07:58.256111Z",
     "iopub.status.idle": "2025-02-07T06:07:58.256631Z",
     "shell.execute_reply": "2025-02-07T06:07:58.256394Z",
     "shell.execute_reply.started": "2025-02-07T06:07:58.256367Z"
    },
    "trusted": true
   },
   "outputs": [],
   "source": [
    "# validation\n",
    "\n",
    "metrics = model.val()"
   ]
  },
  {
   "cell_type": "code",
   "execution_count": null,
   "metadata": {
    "execution": {
     "iopub.status.busy": "2025-02-07T06:07:58.258722Z",
     "iopub.status.idle": "2025-02-07T06:07:58.259086Z",
     "shell.execute_reply": "2025-02-07T06:07:58.258934Z",
     "shell.execute_reply.started": "2025-02-07T06:07:58.258916Z"
    },
    "trusted": true
   },
   "outputs": [],
   "source": [
    "print(f\"Mean Average Precision @.5:.95 : {metrics.box.map}\")    \n",
    "print(f\"Mean Average Precision @ .50   : {metrics.box.map50}\") \n",
    "print(f\"Mean Average Precision @ .70   : {metrics.box.map75}\")"
   ]
  },
  {
   "cell_type": "code",
   "execution_count": null,
   "metadata": {
    "execution": {
     "iopub.status.busy": "2025-02-07T06:07:58.260431Z",
     "iopub.status.idle": "2025-02-07T06:07:58.260803Z",
     "shell.execute_reply": "2025-02-07T06:07:58.260620Z",
     "shell.execute_reply.started": "2025-02-07T06:07:58.260603Z"
    },
    "trusted": true
   },
   "outputs": [],
   "source": [
    "import torch\n",
    "test_imgs_dir = '/kaggle/input/weapon-detection-test/test/test'\n",
    "with torch.no_grad():\n",
    "    results=model.predict(source=test_imgs_dir,conf=0.50,iou=0.75)"
   ]
  },
  {
   "cell_type": "code",
   "execution_count": null,
   "metadata": {
    "execution": {
     "iopub.status.busy": "2025-02-07T06:07:58.262088Z",
     "iopub.status.idle": "2025-02-07T06:07:58.262678Z",
     "shell.execute_reply": "2025-02-07T06:07:58.262508Z",
     "shell.execute_reply.started": "2025-02-07T06:07:58.262489Z"
    },
    "trusted": true
   },
   "outputs": [],
   "source": [
    "!mkdir \"/kaggle/working/predictions\"\n",
    "prediction_dir=\"/kaggle/working/predictions\""
   ]
  },
  {
   "cell_type": "code",
   "execution_count": null,
   "metadata": {
    "execution": {
     "iopub.status.busy": "2025-02-07T06:07:58.263978Z",
     "iopub.status.idle": "2025-02-07T06:07:58.264327Z",
     "shell.execute_reply": "2025-02-07T06:07:58.264162Z",
     "shell.execute_reply.started": "2025-02-07T06:07:58.264146Z"
    },
    "trusted": true
   },
   "outputs": [],
   "source": [
    "len(results)"
   ]
  },
  {
   "cell_type": "code",
   "execution_count": null,
   "metadata": {
    "execution": {
     "iopub.status.busy": "2025-02-07T06:07:58.266058Z",
     "iopub.status.idle": "2025-02-07T06:07:58.266417Z",
     "shell.execute_reply": "2025-02-07T06:07:58.266241Z",
     "shell.execute_reply.started": "2025-02-07T06:07:58.266225Z"
    },
    "trusted": true
   },
   "outputs": [],
   "source": [
    "test_img_list=[]\n",
    "for result in results:\n",
    "    if len(result.boxes.xyxy):\n",
    "        name=result.path.split(\"/\")[-1].split(\".\")[0]\n",
    "        boxes=result.boxes.xyxy.cpu().numpy()\n",
    "        scores=result.boxes.conf.cpu().numpy()\n",
    "        \n",
    "        test_img_list.append(name)\n",
    "        \n",
    "        label_file_path=os.path.join(prediction_dir,name+\".txt\")\n",
    "        with open(label_file_path,\"w+\") as f:\n",
    "            for score,box in zip(scores,boxes):\n",
    "                text=f\"{score:0.4f} \"+\" \".join(box.astype(str))\n",
    "                f.write(text)\n",
    "                f.write(\"\\n\")"
   ]
  },
  {
   "cell_type": "code",
   "execution_count": null,
   "metadata": {
    "execution": {
     "iopub.status.busy": "2025-02-07T06:07:58.268325Z",
     "iopub.status.idle": "2025-02-07T06:07:58.268703Z",
     "shell.execute_reply": "2025-02-07T06:07:58.268521Z",
     "shell.execute_reply.started": "2025-02-07T06:07:58.268503Z"
    },
    "trusted": true
   },
   "outputs": [],
   "source": [
    "import cv2\n",
    "# vis. predictions \n",
    "def show_bbox(img,boxes,scores,axis,color=(0,255,0)):\n",
    "    boxes=boxes.astype(int)\n",
    "    scores=scores\n",
    "    img=img.copy()\n",
    "    for i,box in enumerate(boxes):\n",
    "        score=f\"{scores[i]:.4f}\"\n",
    "        cv2.rectangle(img,(box[0],box[1]),(box[2],box[3]),color,2)\n",
    "        y=box[1]-10 if box[1]-10>10 else box[1]+10\n",
    "        cv2.putText(img,score,(box[0],y),cv2.FONT_HERSHEY_SIMPLEX,0.5,color,2)\n",
    "    \n",
    "    axis.imshow(img)\n",
    "    axis.axis(\"off\")"
   ]
  },
  {
   "cell_type": "code",
   "execution_count": null,
   "metadata": {
    "execution": {
     "iopub.status.busy": "2025-02-07T06:07:58.269759Z",
     "iopub.status.idle": "2025-02-07T06:07:58.270676Z",
     "shell.execute_reply": "2025-02-07T06:07:58.270506Z",
     "shell.execute_reply.started": "2025-02-07T06:07:58.270477Z"
    },
    "trusted": true
   },
   "outputs": [],
   "source": [
    "fig,axes=plt.subplots(1,2,figsize=(12,12))\n",
    "plt.subplots_adjust(wspace=0.1,hspace=0.1)\n",
    "ax=axes.flatten()\n",
    "\n",
    "imgs_name=['terrorists2','weapons']\n",
    "\n",
    "for i,img_name in enumerate(imgs_name):\n",
    "    img_file_path=os.path.join(test_imgs_dir,img_name+\".jpg\")\n",
    "    img=cv2.imread(img_file_path)\n",
    "   # img=cv2.cvtColor(img,cv2.COLOR_BGR2RGB)\n",
    "    \n",
    "    label_file_path=os.path.join(prediction_dir,img_name+\".txt\")\n",
    "    label=pd.read_csv(label_file_path,sep=\" \",header=None).values\n",
    "    scores=label[:,0]\n",
    "    boxes=label[:,1:]\n",
    "    show_bbox(img,boxes,scores,axis=ax[i])\n",
    "    \n",
    "plt.savefig(\"1.png\")"
   ]
  },
  {
   "cell_type": "code",
   "execution_count": null,
   "metadata": {
    "execution": {
     "iopub.status.busy": "2025-02-07T06:07:58.272187Z",
     "iopub.status.idle": "2025-02-07T06:07:58.272540Z",
     "shell.execute_reply": "2025-02-07T06:07:58.272359Z",
     "shell.execute_reply.started": "2025-02-07T06:07:58.272343Z"
    },
    "trusted": true
   },
   "outputs": [],
   "source": [
    "# lets see distrbution of classes\n",
    "\n",
    "df = pd.read_csv('/kaggle/input/weapon-detection-test/metadata.csv')\n",
    "df"
   ]
  },
  {
   "cell_type": "code",
   "execution_count": null,
   "metadata": {
    "execution": {
     "iopub.status.busy": "2025-02-07T06:07:58.273529Z",
     "iopub.status.idle": "2025-02-07T06:07:58.273918Z",
     "shell.execute_reply": "2025-02-07T06:07:58.273719Z",
     "shell.execute_reply.started": "2025-02-07T06:07:58.273701Z"
    },
    "trusted": true
   },
   "outputs": [],
   "source": [
    "df.target.value_counts()"
   ]
  },
  {
   "cell_type": "code",
   "execution_count": null,
   "metadata": {
    "execution": {
     "iopub.status.busy": "2025-02-07T06:07:58.275071Z",
     "iopub.status.idle": "2025-02-07T06:07:58.275429Z",
     "shell.execute_reply": "2025-02-07T06:07:58.275289Z",
     "shell.execute_reply.started": "2025-02-07T06:07:58.275272Z"
    },
    "trusted": true
   },
   "outputs": [],
   "source": [
    "df.train_id.value_counts()"
   ]
  },
  {
   "cell_type": "code",
   "execution_count": null,
   "metadata": {
    "execution": {
     "iopub.status.busy": "2025-02-07T06:07:58.276419Z",
     "iopub.status.idle": "2025-02-07T06:07:58.276773Z",
     "shell.execute_reply": "2025-02-07T06:07:58.276598Z",
     "shell.execute_reply.started": "2025-02-07T06:07:58.276582Z"
    },
    "trusted": true
   },
   "outputs": [],
   "source": [
    "f = df.groupby('train_id')['target']"
   ]
  },
  {
   "cell_type": "code",
   "execution_count": null,
   "metadata": {
    "execution": {
     "iopub.status.busy": "2025-02-07T06:07:58.277719Z",
     "iopub.status.idle": "2025-02-07T06:07:58.278099Z",
     "shell.execute_reply": "2025-02-07T06:07:58.277947Z",
     "shell.execute_reply.started": "2025-02-07T06:07:58.277930Z"
    },
    "trusted": true
   },
   "outputs": [],
   "source": [
    "f.value_counts()"
   ]
  },
  {
   "cell_type": "code",
   "execution_count": null,
   "metadata": {
    "execution": {
     "iopub.status.busy": "2025-02-07T06:07:58.279095Z",
     "iopub.status.idle": "2025-02-07T06:07:58.279483Z",
     "shell.execute_reply": "2025-02-07T06:07:58.279331Z",
     "shell.execute_reply.started": "2025-02-07T06:07:58.279312Z"
    },
    "trusted": true
   },
   "outputs": [],
   "source": [
    "# lets save cropped images for classification task\n",
    "# no need for yolo, already have bboxes\n"
   ]
  },
  {
   "cell_type": "code",
   "execution_count": null,
   "metadata": {
    "execution": {
     "iopub.status.busy": "2025-02-07T06:07:58.280921Z",
     "iopub.status.idle": "2025-02-07T06:07:58.281281Z",
     "shell.execute_reply": "2025-02-07T06:07:58.281123Z",
     "shell.execute_reply.started": "2025-02-07T06:07:58.281106Z"
    },
    "trusted": true
   },
   "outputs": [],
   "source": [
    "import os\n",
    "from PIL import Image, ImageDraw\n",
    "import pandas as pd  # Assuming you're using pandas to read the annotations\n",
    "\n",
    "def convert_yolo_to_bbox(image_path, label_path):\n",
    "    # Load the image\n",
    "    image = Image.open(image_path)\n",
    "    img_width, img_height = image.size\n",
    "    draw = ImageDraw.Draw(image)\n",
    "\n",
    "    # Read the label file\n",
    "    with open(label_path, 'r') as f:\n",
    "        lines = f.readlines()\n",
    "\n",
    "    for line in lines:\n",
    "        line_parts = line.strip().split()\n",
    "        class_label = int(line_parts[0])\n",
    "        \n",
    "        # Extract YOLO format values\n",
    "        x_center = float(line_parts[1]) * img_width\n",
    "        y_center = float(line_parts[2]) * img_height\n",
    "        box_width = float(line_parts[3]) * img_width\n",
    "        box_height = float(line_parts[4]) * img_height\n",
    "\n",
    "        # Convert to xmin, ymin, xmax, ymax\n",
    "        xmin = int(x_center - box_width / 2)\n",
    "        ymin = int(y_center - box_height / 2)\n",
    "        xmax = int(x_center + box_width / 2)\n",
    "        ymax = int(y_center + box_height / 2)\n",
    "\n",
    "        # Validate bbox values\n",
    "        if xmin < xmax and ymin < ymax:\n",
    "            # Draw the bounding box\n",
    "            draw.rectangle([xmin, ymin, xmax, ymax], outline=\"red\", width=2)\n",
    "        else:\n",
    "            print(f\"Invalid bbox: ({xmin}, {ymin}, {xmax}, {ymax}) for class {class_label}\")\n",
    "\n",
    "    # Save or show the image with bounding boxes\n",
    "    output_path = \"image_with_bboxes.jpg\"\n",
    "    image.save(output_path)\n",
    "    image.show()\n",
    "\n",
    "# Test with a single image\n",
    "image_path = \"/kaggle/input/weapon-detection-test/weapon_detection/train/images/Automatic Rifle_10.jpeg\"\n",
    "label_path = \"/kaggle/input/weapon-detection-test/weapon_detection/train/labels/Automatic Rifle_10.txt\"\n",
    "\n",
    "convert_yolo_to_bbox(image_path, label_path)"
   ]
  },
  {
   "cell_type": "code",
   "execution_count": null,
   "metadata": {
    "execution": {
     "iopub.status.busy": "2025-02-07T06:07:58.282194Z",
     "iopub.status.idle": "2025-02-07T06:07:58.282499Z",
     "shell.execute_reply": "2025-02-07T06:07:58.282362Z",
     "shell.execute_reply.started": "2025-02-07T06:07:58.282346Z"
    },
    "trusted": true
   },
   "outputs": [],
   "source": [
    "plt.imshow(cv2.imread(  '/kaggle/working/image_with_bboxes.jpg'))"
   ]
  },
  {
   "cell_type": "markdown",
   "metadata": {},
   "source": [
    "- its work"
   ]
  },
  {
   "cell_type": "code",
   "execution_count": null,
   "metadata": {
    "execution": {
     "iopub.status.busy": "2025-02-07T06:07:58.284204Z",
     "iopub.status.idle": "2025-02-07T06:07:58.284552Z",
     "shell.execute_reply": "2025-02-07T06:07:58.284404Z",
     "shell.execute_reply.started": "2025-02-07T06:07:58.284385Z"
    },
    "trusted": true
   },
   "outputs": [],
   "source": [
    "import os\n",
    "from PIL import Image\n",
    "\n",
    "class_names = { 'Automatic Rifle':0,  'Bazooka':1,  'Grenade Launcher':2,  'Handgun':3,  'Knife':4,  'Shotgun':5, 'SMG':6, 'Sniper':7,  'Sword':8}\n",
    "\n",
    "def convert_yolo_to_bbox_and_crop(image_dir, label_dir, output_dir, is_train=True):\n",
    "    # Create output directory for train or val\n",
    "    train_or_val = \"train\" if is_train else \"val\"\n",
    "    output_class_dir = os.path.join(output_dir, train_or_val)\n",
    "    os.makedirs(output_class_dir, exist_ok=True)\n",
    "\n",
    "    # Iterate over all label files in the directory\n",
    "    for label_filename in os.listdir(label_dir):\n",
    "        if label_filename.endswith('.txt'):\n",
    "            base_filename = os.path.splitext(label_filename)[0]  # Get the base name without extension\n",
    "            image_filename = f\"{base_filename}.jpg\"  # Assuming images are in JPG format\n",
    "            if not os.path.exists(os.path.join(image_dir, image_filename)):\n",
    "                image_filename = f\"{base_filename}.png\"  # Check for PNG if JPG not found\n",
    "            if not os.path.exists(os.path.join(image_dir, image_filename)):\n",
    "                image_filename = f\"{base_filename}.jpeg\"  # Check for jpeg if JPG not found\n",
    "\n",
    "            image_path = os.path.join(image_dir, image_filename)\n",
    "            # Check if the corresponding image file exists\n",
    "            if not os.path.exists(image_path):\n",
    "                print(f\"Image file not found for {label_filename}: {image_path}\")\n",
    "                continue  # Skip if there is no matching image\n",
    "\n",
    "            # Load the image\n",
    "            image = Image.open(image_path)\n",
    "            img_width, img_height = image.size\n",
    "\n",
    "            # Create class directories\n",
    "            with open(os.path.join(label_dir, label_filename), 'r') as f:\n",
    "                lines = f.readlines()\n",
    "                print(100*'-')\n",
    "                print(lines)\n",
    "     \n",
    "            \n",
    "            for line in lines:\n",
    "                line_parts = line.strip().split()\n",
    "                class_label = int(line_parts[0])\n",
    "                print(class_label)\n",
    "                # Create class-specific folder\n",
    "                class_folder = os.path.join(output_class_dir, str(class_label))\n",
    "                os.makedirs(class_folder, exist_ok=True)\n",
    "               \n",
    "                # Extract YOLO format values\n",
    "                x_center = float(line_parts[1]) * img_width\n",
    "                y_center = float(line_parts[2]) * img_height\n",
    "                box_width = float(line_parts[3]) * img_width\n",
    "                box_height = float(line_parts[4]) * img_height\n",
    "\n",
    "                # Convert to xmin, ymin, xmax, ymax\n",
    "                xmin = int(x_center - box_width / 2)\n",
    "                ymin = int(y_center - box_height / 2)\n",
    "                xmax = int(x_center + box_width / 2)\n",
    "                ymax = int(y_center + box_height / 2)\n",
    "\n",
    "                # Validate bbox values\n",
    "                if xmin < xmax and ymin < ymax:\n",
    "                    # Crop the image\n",
    "                    cropped_image = image.crop((xmin, ymin, xmax, ymax))\n",
    "\n",
    "                    # Convert to RGB if the image is in RGBA or P mode\n",
    "                    if cropped_image.mode in ('RGBA', 'P'):\n",
    "                        cropped_image = cropped_image.convert('RGB')\n",
    "\n",
    "                    # Save the cropped image\n",
    "                    cropped_image_filename = f\"{base_filename}_class_{class_label}.jpg\"\n",
    "                    cropped_image.save(os.path.join(class_folder, cropped_image_filename))\n",
    "                else:\n",
    "                    print(f\"Invalid bbox: ({xmin}, {ymin}, {xmax}, {ymax}) for class {class_label}\")"
   ]
  },
  {
   "cell_type": "code",
   "execution_count": null,
   "metadata": {
    "execution": {
     "iopub.status.busy": "2025-02-07T06:07:58.285499Z",
     "iopub.status.idle": "2025-02-07T06:07:58.285915Z",
     "shell.execute_reply": "2025-02-07T06:07:58.285715Z",
     "shell.execute_reply.started": "2025-02-07T06:07:58.285695Z"
    },
    "trusted": true
   },
   "outputs": [],
   "source": [
    "output_directory = \"./cropped2\"  # Change this to your desired output directory\n",
    "image_path = \"/kaggle/input/weapon-detection-test/weapon_detection/train/images\"\n",
    "label_path = \"/kaggle/input/weapon-detection-test/weapon_detection/train/labels\"\n",
    "\n",
    "# Save cropped images for training\n",
    "convert_yolo_to_bbox_and_crop(image_path, label_path, output_directory, is_train=True)\n"
   ]
  },
  {
   "cell_type": "markdown",
   "metadata": {},
   "source": [
    "- wrong annotations -_-"
   ]
  }
 ],
 "metadata": {
  "kaggle": {
   "accelerator": "gpu",
   "dataSources": [
    {
     "datasetId": 2899133,
     "sourceId": 5005548,
     "sourceType": "datasetVersion"
    }
   ],
   "dockerImageVersionId": 30775,
   "isGpuEnabled": true,
   "isInternetEnabled": false,
   "language": "python",
   "sourceType": "notebook"
  },
  "kernelspec": {
   "display_name": "Python 3",
   "language": "python",
   "name": "python3"
  },
  "language_info": {
   "codemirror_mode": {
    "name": "ipython",
    "version": 3
   },
   "file_extension": ".py",
   "mimetype": "text/x-python",
   "name": "python",
   "nbconvert_exporter": "python",
   "pygments_lexer": "ipython3",
   "version": "3.12.9"
  }
 },
 "nbformat": 4,
 "nbformat_minor": 4
}
